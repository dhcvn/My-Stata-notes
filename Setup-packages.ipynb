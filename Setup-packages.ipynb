{
 "cells": [
  {
   "cell_type": "markdown",
   "metadata": {},
   "source": [
    "## Các câu lệnh bổ sung từ người dùng Stata\n",
    "\n",
    "Trong quá trình làm việc có thể bạn sẽ gặp phải những vấn đề mà một hoặc nhiều người dùng khác đã trải qua. Những vấn đề chung thường gặp phải sẽ thường được phát triển thành các câu lệnh mới người dùng tự xây dựng. Hàng năm, Stata có 1 hạng mục giải thưởng cho những người dùng có sản phẩm cải tiến câu lệnh của Stata hoặc phát triển câu lệnh mà Stata chưa có.\n",
    "\n",
    "Stata cập nhật các gói người dùng xây dựng [tại đây](http://www.haghish.com/statistics/stata-blog/stata-programming/ssc_stata_package_list.php), tùy vào mục đích khác nhau bạn có thể tìm và sử dụng gói phù hợp"
   ]
  },
  {
   "cell_type": "markdown",
   "metadata": {},
   "source": [
    "#### Một vấn đề gặp phải khi sử dụng Stata, đó là cài đặt lại các câu lệnh trước đã được sử dụng hoặc các câu lệnh từ người dùng khác. Khi có đủ các câu lệnh bổ sung được cài đặt thì dofile sẽ chạy mượt mà.\n",
    "\n",
    "Để tiết kiệm thời gian, dưới đây là cách tôi sử dụng khi phải cài lại hoặc cái mới stata"
   ]
  },
  {
   "cell_type": "code",
   "execution_count": null,
   "metadata": {},
   "outputs": [],
   "source": [
    "local packages /// \n",
    "xcontract     /// /*Tạo số liệu tần số và phần trăm*/\n",
    "xls2dta       /// /*Import xls vào stata dễ dàng hơn*/\n",
    "vioplot       /// /*Vẽ biểu đồ vioplot*/\n",
    "unique        /// /*Kiểm tra số lượng lựa chọn duy nhất*/\n",
    "tab3way       /// /*Tạo bảng 3 chiều*/\n",
    "tabex         /// /*Tạo bảng và xuất bảng ra excel*/\n",
    "table1        /// /*Xuất kết quả dưới dạng bảng trong báo cáo*/\n",
    "tabout        /// /*Xuất kết quả dưới dạng bảng trong báo cáo*/\n",
    "tabstatout    /// \n",
    "texify        /// \n",
    "tw3xls        /// \n",
    "save9         /// /*Lưu stata xuống phiên bản cũ hơn*/\n",
    "savespss      /// /*Lưu số liệu dưới dạng của SPSS*/\n",
    "smcl2do       /// /*Chuyển file smcl thành dofile*/\n",
    "sxpose        /// /*Hoán vị số liệu bao gồm cả string*/\n",
    "parsefilename /// \n",
    "psmatch2      /// /*Dùng để ghép cặp tương đồng, tính toán teffect*/\n",
    "outreg2       /// /*Đưa kết quả mô hình ra bảng trong excel*/\n",
    "mdesc         /// /*Mô tả missings*/\n",
    "mim           /// /*Missings imputaion*/\n",
    "mrtab         /// /*Bảng tần số và tỷ lệ cho câu hỏi nhiều lựa chọn*/\n",
    "dirtools      /// /*Công cụ làm việc với đường dẫn*/\n",
    "kdens         /// /*Vẽ biểu đồ kdensity*/\n",
    "ice           /// /*Misings imputation with chain equation*/\n",
    "figout        /// \n",
    "filelist      /// /*Liệt kê tất cả files trong folder*/\n",
    "estout        /// /*Xuất mô hình thống kê ra excel*/\n",
    "descsave      /// /*Lưu số liệu về số liệu mô tả*/\n",
    "clickout      /// /*Tạo các đường link tới các phần trong thư mục*/\n",
    "coefplot      /// /*Vẽ thêm biểu đồ*/\n",
    "palettes      /// /*Import nhiều màu sắc của graph*/\n",
    "colorpalette9 ///\n",
    "cmdchk        /// \n",
    "cdout         /// \n",
    "calipmatch    /// \n",
    "basetable     ///\n",
    "byvar         /// \n",
    "addplot       /// /*Thêm graph cho graph hiện có*/\n",
    "asdoc         /// /*Đẩy kết quả vào trong word*/\n",
    "missings          /*Kiểm tra missing trong dữ liệu*/\n",
    "\n",
    "foreach v of local packages {\n",
    "\tcap which `v'\n",
    "\tif _rc!=0 ssc install `v'\n",
    "}"
   ]
  }
 ],
 "metadata": {
  "kernelspec": {
   "display_name": "Stata",
   "language": "stata",
   "name": "stata"
  },
  "language_info": {
   "codemirror_mode": "stata",
   "file_extension": ".do",
   "mimetype": "text/x-stata",
   "name": "stata",
   "version": "15.1"
  }
 },
 "nbformat": 4,
 "nbformat_minor": 4
}
