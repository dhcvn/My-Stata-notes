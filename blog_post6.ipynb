{
 "cells": [
  {
   "cell_type": "markdown",
   "metadata": {
    "toc": true
   },
   "source": [
    "<h1>Mục lục<span class=\"tocSkip\"></span></h1>\n",
    "<div class=\"toc\"><ul class=\"toc-item\"><li><span><a href=\"#Vòng-lặp-foreach\" data-toc-modified-id=\"Vòng-lặp-foreach-1\"><span class=\"toc-item-num\">1&nbsp;&nbsp;</span>Vòng lặp foreach</a></span><ul class=\"toc-item\"><li><span><a href=\"#Trường-hợp-1-lặp-qua-các-biến-số\" data-toc-modified-id=\"Trường-hợp-1-lặp-qua-các-biến-số-1.1\"><span class=\"toc-item-num\">1.1&nbsp;&nbsp;</span>Trường hợp 1 lặp qua các biến số</a></span></li></ul></li><li><span><a href=\"#Vòng-lặp-forvalue\" data-toc-modified-id=\"Vòng-lặp-forvalue-2\"><span class=\"toc-item-num\">2&nbsp;&nbsp;</span>Vòng lặp forvalue</a></span></li><li><span><a href=\"#Vòng-lặp-while\" data-toc-modified-id=\"Vòng-lặp-while-3\"><span class=\"toc-item-num\">3&nbsp;&nbsp;</span>Vòng lặp while</a></span></li></ul></div>"
   ]
  },
  {
   "cell_type": "markdown",
   "metadata": {},
   "source": [
    "## Vòng lặp foreach"
   ]
  },
  {
   "cell_type": "markdown",
   "metadata": {},
   "source": [
    "### Trường hợp 1 lặp qua các biến số"
   ]
  },
  {
   "cell_type": "code",
   "execution_count": 7,
   "metadata": {
    "scrolled": true
   },
   "outputs": [
    {
     "name": "stdout",
     "output_type": "stream",
     "text": [
      "\n",
      "(1978 Automobile Data)\n",
      "\n",
      "\n",
      "Contains data from C:\\Program Files (x86)\\Stata15\\ado\\base/a/auto.dta\n",
      "  obs:            74                          1978 Automobile Data\n",
      " vars:            12                          13 Apr 2016 17:45\n",
      " size:         3,182                          (_dta has notes)\n",
      "--------------------------------------------------------------------------------\n",
      "              storage   display    value\n",
      "variable name   type    format     label      variable label\n",
      "--------------------------------------------------------------------------------\n",
      "make            str18   %-18s                 Make and Model\n",
      "price           int     %8.0gc                Price\n",
      "mpg             int     %8.0g                 Mileage (mpg)\n",
      "rep78           int     %8.0g                 Repair Record 1978\n",
      "headroom        float   %6.1f                 Headroom (in.)\n",
      "trunk           int     %8.0g                 Trunk space (cu. ft.)\n",
      "weight          int     %8.0gc                Weight (lbs.)\n",
      "length          int     %8.0g                 Length (in.)\n",
      "turn            int     %8.0g                 Turn Circle (ft.)\n",
      "displacement    int     %8.0g                 Displacement (cu. in.)\n",
      "gear_ratio      float   %6.2f                 Gear Ratio\n",
      "foreign         byte    %8.0g      origin     Car type\n",
      "--------------------------------------------------------------------------------\n",
      "Sorted by: foreign\n",
      "\n",
      "\n",
      "\n",
      "    Variable |        Obs        Mean    Std. Dev.       Min        Max\n",
      "-------------+---------------------------------------------------------\n",
      "       trunk |         74    13.75676    4.277404          5         23\n",
      "      weight |         74    3019.459    777.1936       1760       4840\n",
      "      length |         74    187.9324    22.26634        142        233\n",
      "        turn |         74    39.64865    4.399354         31         51\n",
      "\n",
      "\n",
      "    Variable |        Obs        Mean    Std. Dev.       Min        Max\n",
      "-------------+---------------------------------------------------------\n",
      "   trunk_new |         74    1.03e-08           1  -2.047213   2.160947\n",
      "  weight_new |         74   -1.81e-09           1  -1.620522   2.342454\n",
      "  length_new |         74    1.06e-09           1  -2.062864   2.024022\n",
      "    turn_new |         74   -2.82e-09           1  -1.965891   2.580232\n"
     ]
    }
   ],
   "source": [
    "* mở bộ số liệu auto\n",
    "sysuse auto, clear\n",
    "describe // Mô tả bộ số liệu\n",
    "* biến đổi các biến số định lượng\n",
    "* công thức: (x - mean(var)) / sd(var)\n",
    "foreach var of varlist trunk-turn {\n",
    "    qui summarize `var'\n",
    "    gen `var'_new = (`var' - r(mean)) / r(sd)\n",
    "}\n",
    "summarize trunk-turn\n",
    "summarize *_new"
   ]
  },
  {
   "cell_type": "code",
   "execution_count": 15,
   "metadata": {},
   "outputs": [
    {
     "name": "stdout",
     "output_type": "stream",
     "text": [
      "\n",
      "\n",
      "D:\\Datasets\\HR Data\n",
      "\n",
      "  <dir>   3/05/21 22:24  .                 \n",
      "  <dir>   3/05/21 22:24  ..                \n",
      "  18.1k   2/12/19 10:37  201501.csv        \n",
      "  64.5k   6/17/20 11:00  201501.xls        \n",
      "  18.2k   2/12/19 10:37  201502.csv        \n",
      "  65.0k   6/17/20 11:00  201502.xls        \n",
      "  18.2k   2/12/19 10:38  201503.csv        \n",
      "  65.0k   6/17/20 11:00  201503.xls        \n",
      "  18.5k   2/12/19 10:38  201504.csv        \n",
      "  66.0k   6/17/20 11:00  201504.xls        \n",
      "  19.1k   2/12/19 10:39  201505.csv        \n",
      "  68.5k   6/17/20 11:00  201505.xls        \n",
      "  19.9k   2/12/19 10:39  201506.csv        \n",
      "  20.4k   2/12/19 10:39  201507.csv        \n",
      "  21.2k   2/12/19 10:40  201508.csv        \n",
      "  21.7k   2/12/19 10:40  201509.csv        \n",
      "  22.8k   2/12/19 10:40  201510.csv        \n",
      "  23.6k   2/12/19 10:40  201511.csv        \n",
      "  24.0k   2/12/19 10:41  201512.csv        \n",
      "  24.9k   2/12/19 10:41  201601.csv        \n",
      "  25.5k   2/12/19 10:41  201602.csv        \n",
      "  26.9k   2/12/19 10:41  201603.csv        \n",
      "\n",
      "\n",
      "\n",
      "Số liệu 201501.csv có: 228 bản ghi và 16 biến số\n",
      "Số liệu 201502.csv có: 229 bản ghi và 16 biến số\n",
      "Số liệu 201503.csv có: 229 bản ghi và 16 biến số\n",
      "Số liệu 201504.csv có: 233 bản ghi và 16 biến số\n",
      "Số liệu 201505.csv có: 242 bản ghi và 16 biến số\n",
      "Số liệu 201506.csv có: 251 bản ghi và 16 biến số\n",
      "Số liệu 201507.csv có: 258 bản ghi và 16 biến số\n",
      "Số liệu 201508.csv có: 269 bản ghi và 16 biến số\n",
      "Số liệu 201509.csv có: 275 bản ghi và 16 biến số\n",
      "Số liệu 201510.csv có: 289 bản ghi và 16 biến số\n",
      "Số liệu 201511.csv có: 298 bản ghi và 16 biến số\n",
      "Số liệu 201512.csv có: 304 bản ghi và 16 biến số\n",
      "Số liệu 201601.csv có: 316 bản ghi và 16 biến số\n",
      "Số liệu 201602.csv có: 324 bản ghi và 16 biến số\n",
      "Số liệu 201603.csv có: 342 bản ghi và 16 biến số\n",
      "\n",
      "-------------------------------------------------------------\n",
      "\n",
      "Số liệu 201501.xls có: 229 bản ghi và 16 biến số\n",
      "Số liệu 201502.xls có: 230 bản ghi và 16 biến số\n",
      "Số liệu 201503.xls có: 230 bản ghi và 16 biến số\n",
      "Số liệu 201504.xls có: 234 bản ghi và 16 biến số\n",
      "Số liệu 201505.xls có: 243 bản ghi và 16 biến số\n"
     ]
    }
   ],
   "source": [
    "* vòng lặp foreach khi muốn import hàng loạt file số liệu đầu vào\n",
    "clear\n",
    "cd \"D:\\Datasets\\HR Data\"\n",
    "dir *\n",
    "* Trong thư mục này tôi có 20 file số liệu có cấu trúc giống nhau. 5 file .xls và 15 files .csv\n",
    "* Dưới đây tôi sẽ mô phỏng việc import hết tất cả các file số liệu trong 1 vòng loopss\n",
    "local csvfiles: dir\".\"files\"*.csv\"\n",
    "local xlsfiles: dir\".\"files\"*.xls\"\n",
    "foreach f of local csvfiles {\n",
    "    qui import delimited using \"`f'\", clear\n",
    "    qui describe, short\n",
    "    di \"Số liệu `f' có: \" r(N) \" bản ghi và \" r(k) \" biến số\"\n",
    "}\n",
    "di \"-------------------------------------------------------------\"\n",
    "foreach f of local xlsfiles {\n",
    "    qui import excel using \"`f'\", clear\n",
    "    qui describe, short\n",
    "    di \"Số liệu `f' có: \" r(N) \" bản ghi và \" r(k) \" biến số\"\n",
    "}\n",
    "* dĩ nhiên trong vòng lặp chúng ta có thể tất cả thao tác mà lặp lại ở tất cả các bộ số liệu"
   ]
  },
  {
   "cell_type": "markdown",
   "metadata": {},
   "source": [
    "## Vòng lặp forvalue"
   ]
  },
  {
   "cell_type": "code",
   "execution_count": 20,
   "metadata": {},
   "outputs": [
    {
     "name": "stdout",
     "output_type": "stream",
     "text": [
      "\n",
      "(1978 Automobile Data)\n",
      "\n",
      "\n",
      "(1 real change made)\n",
      "(1 real change made)\n",
      "(1 real change made)\n",
      "(1 real change made)\n",
      "(1 real change made)\n",
      "(1 real change made)\n",
      "(1 real change made)\n",
      "(1 real change made)\n",
      "(1 real change made)\n",
      "(1 real change made)\n",
      "(1 real change made)\n",
      "(1 real change made)\n",
      "(1 real change made)\n",
      "(1 real change made)\n",
      "(1 real change made)\n",
      "(1 real change made)\n",
      "(1 real change made)\n",
      "(1 real change made)\n",
      "(1 real change made)\n",
      "(1 real change made)\n",
      "(1 real change made)\n",
      "(1 real change made)\n",
      "(1 real change made)\n",
      "(1 real change made)\n",
      "(1 real change made)\n",
      "(1 real change made)\n",
      "(1 real change made)\n",
      "(1 real change made)\n",
      "(1 real change made)\n",
      "(1 real change made)\n",
      "(1 real change made)\n",
      "(1 real change made)\n",
      "(1 real change made)\n",
      "(1 real change made)\n",
      "(1 real change made)\n",
      "(1 real change made)\n",
      "(1 real change made)\n"
     ]
    }
   ],
   "source": [
    "* mở bộ số liệu auto\n",
    "sysuse auto, clear\n",
    "gen id = _n // tạo biến id có giá trị từ 1 --> 74\n",
    "// cứ mỗi 2 giá trị tăng biến price lên 1 đơn vị\n",
    "forvalue i = 1(2)74 {\n",
    "    replace price = price + 1 if id == `i'\n",
    "}"
   ]
  },
  {
   "cell_type": "markdown",
   "metadata": {},
   "source": [
    "## Vòng lặp while"
   ]
  },
  {
   "cell_type": "code",
   "execution_count": 25,
   "metadata": {},
   "outputs": [
    {
     "name": "stdout",
     "output_type": "stream",
     "text": [
      "\n",
      "\n",
      "\n",
      "Giá trị của i là: 1\n",
      "Giá trị của i là: 2\n",
      "Giá trị của i là: 3\n",
      "Giá trị của i là: 4\n",
      "Giá trị của i là: 5\n",
      "Giá trị của i là: 6\n",
      "Giá trị của i là: 7\n",
      "Giá trị của i là: 8\n",
      "Giá trị của i là: 9\n"
     ]
    }
   ],
   "source": [
    "clear\n",
    "local i = 1\n",
    "while `i' < 10 {\n",
    "    display \"Giá trị của i là: \" `i'\n",
    "    local ++i\n",
    "}\n",
    "* đây là 1 ví dụ nhỏ bởi thường while ít được biến đến và sử dụng\n",
    "* tuy nhiên cũng có hữu ích trong trường hợp nhất định"
   ]
  },
  {
   "cell_type": "code",
   "execution_count": null,
   "metadata": {},
   "outputs": [],
   "source": []
  }
 ],
 "metadata": {
  "kernelspec": {
   "display_name": "Stata",
   "language": "stata",
   "name": "stata"
  },
  "language_info": {
   "codemirror_mode": "stata",
   "file_extension": ".do",
   "mimetype": "text/x-stata",
   "name": "stata",
   "version": "15.1"
  },
  "toc": {
   "base_numbering": 1,
   "nav_menu": {},
   "number_sections": true,
   "sideBar": true,
   "skip_h1_title": true,
   "title_cell": "Mục lục",
   "title_sidebar": "Nội dung",
   "toc_cell": true,
   "toc_position": {},
   "toc_section_display": true,
   "toc_window_display": true
  }
 },
 "nbformat": 4,
 "nbformat_minor": 4
}
