{
 "cells": [
  {
   "cell_type": "markdown",
   "metadata": {
    "toc": true
   },
   "source": [
    "<h1>Mục lục<span class=\"tocSkip\"></span></h1>\n",
    "<div class=\"toc\"><ul class=\"toc-item\"><li><span><a href=\"#Cách-Stata-lưu-các-input\" data-toc-modified-id=\"Cách-Stata-lưu-các-input-1\"><span class=\"toc-item-num\">1&nbsp;&nbsp;</span>Cách Stata lưu các input</a></span></li><li><span><a href=\"#Cách-Stata-lưu-output\" data-toc-modified-id=\"Cách-Stata-lưu-output-2\"><span class=\"toc-item-num\">2&nbsp;&nbsp;</span>Cách Stata lưu output</a></span></li><li><span><a href=\"#Kết-luận\" data-toc-modified-id=\"Kết-luận-3\"><span class=\"toc-item-num\">3&nbsp;&nbsp;</span>Kết luận</a></span></li></ul></div>"
   ]
  },
  {
   "cell_type": "markdown",
   "metadata": {},
   "source": [
    "## Cách Stata lưu các input"
   ]
  },
  {
   "cell_type": "code",
   "execution_count": 1,
   "metadata": {},
   "outputs": [
    {
     "name": "stdout",
     "output_type": "stream",
     "text": [
      "\n",
      "\n",
      "\n",
      "\n",
      "make price mpg rep78 headroom trunk weight length turn displacement gear_ratio foreign\n"
     ]
    }
   ],
   "source": [
    "set linesize 100\n",
    "* Mở bộ số liệu auto\n",
    "qui sysuse auto, clear\n",
    "qui describe, varlist // Kết quả của lệnh này sẽ lưu các biến số trong r(varlist)\n",
    "display r(varlist) // Hiển thị các biến số trong bộ số liệu\n",
    "* ghi chú: varlist trong tiếng việt là danh sách biến"
   ]
  },
  {
   "cell_type": "code",
   "execution_count": 2,
   "metadata": {},
   "outputs": [
    {
     "name": "stdout",
     "output_type": "stream",
     "text": [
      "\n",
      "\n",
      "              storage   display    value\n",
      "variable name   type    format     label      variable label\n",
      "----------------------------------------------------------------------------------------------------\n",
      "make            str18   %-18s                 Make and Model\n",
      "\n",
      "\n",
      "Make and Model\n"
     ]
    }
   ],
   "source": [
    "* Lưu các nhãn biến\n",
    "describe make\n",
    "local makelabel: variable label make\n",
    "display \"`makelabel'\""
   ]
  },
  {
   "cell_type": "code",
   "execution_count": 3,
   "metadata": {},
   "outputs": [
    {
     "name": "stdout",
     "output_type": "stream",
     "text": [
      "\n",
      "\n",
      "              storage   display    value\n",
      "variable name   type    format     label      variable label\n",
      "----------------------------------------------------------------------------------------------------\n",
      "foreign         byte    %8.0g      origin     Car type\n",
      "\n",
      "\n",
      "origin\n"
     ]
    }
   ],
   "source": [
    "* lưu và hiển thị nhãn giá trị\n",
    "describe foreign\n",
    "local foreign_vallab: value label foreign\n",
    "display \"`foreign_vallab'\""
   ]
  },
  {
   "cell_type": "code",
   "execution_count": 4,
   "metadata": {},
   "outputs": [
    {
     "name": "stdout",
     "output_type": "stream",
     "text": [
      "\n",
      "DELL\n",
      "\n",
      " 5 Mar 2021\n",
      "\n",
      "13 Apr 2016 17:45\n"
     ]
    }
   ],
   "source": [
    "* Hiển thị tên người dùng máy tính, ngày hiện tại, ngày cập nhật cuối cùng của số liệu\n",
    "display c(username)\n",
    "display c(current_date)\n",
    "display c(filedate)"
   ]
  },
  {
   "cell_type": "code",
   "execution_count": 5,
   "metadata": {},
   "outputs": [
    {
     "name": "stdout",
     "output_type": "stream",
     "text": [
      "\n",
      "a b c d e f g h i j k l m n o p q r s t u v w x y z\n",
      "\n",
      "A B C D E F G H I J K L M N O P Q R S T U V W X Y Z\n",
      "\n",
      "January February March April May June July August September October November December\n",
      "\n",
      "Sunday Monday Tuesday Wednesday Thursday Friday Saturday\n"
     ]
    }
   ],
   "source": [
    "* Hiển thị bảng chữ cái và ngày tháng\n",
    "display c(alpha)\n",
    "display c(ALPHA)\n",
    "display c(Months)\n",
    "display c(Weekdays)"
   ]
  },
  {
   "cell_type": "markdown",
   "metadata": {},
   "source": [
    "## Cách Stata lưu output"
   ]
  },
  {
   "cell_type": "code",
   "execution_count": 6,
   "metadata": {},
   "outputs": [
    {
     "name": "stdout",
     "output_type": "stream",
     "text": [
      "\n",
      "\n",
      "    Variable |        Obs        Mean    Std. Dev.       Min        Max\n",
      "-------------+---------------------------------------------------------\n",
      "       price |         74    6165.257    2949.496       3291      15906\n",
      "\n",
      "6165.2568\n",
      "\n",
      "74\n",
      "\n",
      "2949.4959\n"
     ]
    }
   ],
   "source": [
    "* tóm tắt biến price\n",
    "summarize price\n",
    "display r(mean) // Hiển thị giá trị trung bình của kết quả việc tóm tắt biến price\n",
    "display r(N)    // Tổng số giá trị quan sát (trừ giá trị missing)\n",
    "display r(sd)   // Độ lệch chuẩn"
   ]
  },
  {
   "cell_type": "code",
   "execution_count": 7,
   "metadata": {},
   "outputs": [
    {
     "name": "stdout",
     "output_type": "stream",
     "text": [
      "\n",
      "\n",
      "   Car type |      Freq.     Percent        Cum.\n",
      "------------+-----------------------------------\n",
      "   Domestic |         52       70.27       70.27\n",
      "    Foreign |         22       29.73      100.00\n",
      "------------+-----------------------------------\n",
      "      Total |         74      100.00\n",
      "\n",
      "\n",
      "\n",
      "Hàng 1: Domestic có tần số = 52\n",
      "\n",
      "Hàng 2: Domestic có tần số = 22\n",
      "\n",
      "Tổng = 74\n"
     ]
    }
   ],
   "source": [
    "* Bảng thống kê \n",
    "tabulate foreign, matcell(giatri) matrow(tenhang)\n",
    "local tenhang1: label origin `=tenhang[1,1]'\n",
    "local tenhang2: label origin `=tenhang[2,1]'\n",
    "display \"Hàng 1: `tenhang1' có tần số = \" giatri[1,1]\n",
    "display \"Hàng 2: `tenhang1' có tần số = \" giatri[2,1]\n",
    "display \"Tổng = \" giatri[1,1]+giatri[2,1]\n",
    "* Việc thao tác qua từng giá trị này là tiền để để xuất bảng biểu ra excel/word chính xác hơn"
   ]
  },
  {
   "cell_type": "markdown",
   "metadata": {},
   "source": [
    "## Kết luận\n",
    "\n",
    "Chúng ta có thể thao tác với bất kỳ giá trị nào từ input và output của Stata, tuỳ chỉnh tuần tự theo từng yêu cầu của công việc theo các chương trình sao cho phù hợp."
   ]
  }
 ],
 "metadata": {
  "kernelspec": {
   "display_name": "Stata",
   "language": "stata",
   "name": "stata"
  },
  "language_info": {
   "codemirror_mode": "stata",
   "file_extension": ".do",
   "mimetype": "text/x-stata",
   "name": "stata",
   "version": "15.1"
  },
  "toc": {
   "base_numbering": 1,
   "nav_menu": {},
   "number_sections": true,
   "sideBar": true,
   "skip_h1_title": true,
   "title_cell": "Mục lục",
   "title_sidebar": "Nội dung",
   "toc_cell": true,
   "toc_position": {},
   "toc_section_display": true,
   "toc_window_display": true
  }
 },
 "nbformat": 4,
 "nbformat_minor": 4
}
