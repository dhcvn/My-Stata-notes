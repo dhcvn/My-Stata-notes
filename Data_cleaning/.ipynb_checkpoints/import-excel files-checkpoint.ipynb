{
 "cells": [
  {
   "cell_type": "markdown",
   "metadata": {},
   "source": [
    "<h1 style=\"background-color:DodgerBlue;color:White;padding:20px;text-align: center;line-height:1.5;\"> <b>Import nhiều files excel cùng lúc hoặc <br> nhiều sheets của 1 file excel vào Stata</b> </h1>\n",
    "\n",
    "<i>Đào Huy Cừ</i><br>\n",
    "<i>Ngày tháng: 09 tháng 6 năm 2020</i>"
   ]
  },
  {
   "cell_type": "markdown",
   "metadata": {},
   "source": [
    "<h2><b> Import nhiều file excel trong cùng 1 folder </b></h2>"
   ]
  },
  {
   "cell_type": "markdown",
   "metadata": {},
   "source": [
    "<p> Viết chương trình loops qua và import tất cả các files </p>"
   ]
  },
  {
   "cell_type": "markdown",
   "metadata": {},
   "source": [
    "<p>Có thể cải thiện chương trình bằng việc import đuôi files cụ thể</p>"
   ]
  },
  {
   "cell_type": "code",
   "execution_count": 11,
   "metadata": {},
   "outputs": [],
   "source": [
    "set varabbrev off\n",
    "cap program drop myimport\n",
    "program define myimport \n",
    "\n",
    "local ddang `1'\n",
    "// Liệt kê tất cả files excel có trong working directory và lưu vào filenames\n",
    "global filenames : dir\".\"files\"*.`ddang'\"\n",
    "* Lưu ý: có thể thay đổi đuôi của file từ .xlsx bằng các định dạng file khác bao gồm: xls, csv\n",
    "\n",
    "//Tạo vòng lặp qua từng file trong $filenames với vòng lặp foreach\n",
    "foreach filename of global filenames {\n",
    "\n",
    "    // Đặt tên cho file số liệu sẽ lưu lại dưới dạng stata\n",
    "\tlocal filename1 = subinstr(\"`filename'\",\" \",\"\",.)      // Loại bỏ dấu cách trong tên file\n",
    "\tlocal filename2 = subinstr(\"`filename1'\",\".`ddang'\",\"\",.)  //Loại bỏ phần đuôi trong tên file    \n",
    "    \n",
    "    * Sử dụng option all để bảo vệ số liệu ở những biến số mixed type (string + numeric), quy hết về string\n",
    "    if (\"`ddang'\" == \"xlsx\") | (\"`ddang'\"== \"xls\") {\n",
    "        qui import excel using `\"`filename'\"', first all clear\n",
    "        qui save `\"`filename2'.dta\"', replace // lưu lại số liệu\n",
    "    }\n",
    "    if (\"`ddang'\" == \"csv\") {\n",
    "        qui import delimited using `\"`filename'\"', clear\n",
    "        qui save `\"`filename2'.dta\"', replace // lưu lại số liệu\n",
    "    }\n",
    "}\n",
    "end"
   ]
  },
  {
   "cell_type": "markdown",
   "metadata": {},
   "source": [
    "<b>Nhưng như vậy nếu trường hợp không lựa chọn định dạng đuôi file nào thì mặc định sẽ là gì?</b>"
   ]
  },
  {
   "cell_type": "code",
   "execution_count": 12,
   "metadata": {},
   "outputs": [
    {
     "name": "stdout",
     "output_type": "stream",
     "text": [
      "\n",
      "\n",
      "\n",
      "  <dir>   6/09/20 21:08  .                 \n",
      "  <dir>   6/09/20 21:08  ..                \n",
      "  18.1k   2/12/19 10:37  201501.csv        \n",
      "  18.2k   2/12/19 10:37  201502.csv        \n",
      "  18.2k   2/12/19 10:38  201503.csv        \n",
      "  18.5k   2/12/19 10:38  201504.csv        \n",
      "  19.1k   2/12/19 10:39  201505.csv        \n",
      "  19.9k   2/12/19 10:39  201506.csv        \n",
      "  20.4k   2/12/19 10:39  201507.csv        \n",
      "  21.2k   2/12/19 10:40  201508.csv        \n",
      "  21.7k   2/12/19 10:40  201509.csv        \n",
      "  22.8k   2/12/19 10:40  201510.csv        \n",
      "  23.6k   2/12/19 10:40  201511.csv        \n",
      "  24.0k   2/12/19 10:41  201512.csv        \n",
      "  24.9k   2/12/19 10:41  201601.csv        \n",
      "  25.5k   2/12/19 10:41  201602.csv        \n",
      "  26.9k   2/12/19 10:41  201603.csv        \n",
      "  27.6k   2/12/19 10:42  201604.csv        \n",
      "  28.1k   2/12/19 10:42  201605.csv        \n",
      "  28.7k   2/12/19 10:42  201606.csv        \n",
      "  29.3k   2/12/19 10:42  201607.csv        \n",
      "  30.7k   2/12/19 10:43  201608.csv        \n",
      "  32.4k   2/12/19 10:43  201609.csv        \n",
      "  34.2k   2/12/19 10:43  201610.csv        \n",
      "  36.8k   2/12/19 10:43  201611.csv        \n",
      "  39.6k   2/12/19 10:44  201612.csv        \n",
      "  39.4k   2/12/19 10:44  201701.csv        \n",
      "  38.8k   2/12/19 10:44  201702.csv        \n",
      "  38.9k   2/12/19 10:44  201703.csv        \n",
      "  39.2k   2/12/19 10:44  201704.csv        \n",
      "  40.5k   2/12/19 10:45  201705.csv        \n",
      "  40.6k   2/12/19 10:45  201706.csv        \n",
      "  41.3k   2/12/19 10:45  201707.csv        \n",
      "  44.8k   2/12/19 10:45  201708.csv        \n",
      "  44.3k   2/12/19 10:46  201709.csv        \n",
      "  44.7k   2/12/19 10:46  201710.csv        \n",
      "  44.6k   2/12/19 10:46  201711.csv        \n",
      "  43.8k   2/12/19 10:46  201712.csv        \n",
      "  43.4k   2/12/19 10:47  201801.csv        \n",
      "  44.3k   2/12/19 10:47  201802.csv        \n",
      "  46.2k   2/12/19 10:47  201803.csv        \n",
      "  47.9k   2/12/19 10:47  201804.csv        \n",
      "  52.9k   2/12/19 10:47  201805.csv        \n",
      "  57.1k   2/12/19 10:48  201806.csv        \n",
      "  59.2k   2/12/19 10:48  201807.csv        \n",
      "  61.9k   2/12/19 10:48  201808.csv        \n",
      "  59.9k   2/12/19 10:48  201809.csv        \n",
      "  60.7k   2/12/19 10:49  201810.csv        \n",
      "  59.6k   2/12/19 10:49  201811.csv        \n",
      "  51.2k   2/12/19 10:49  201812.csv        \n"
     ]
    }
   ],
   "source": [
    "// Ví dụ về 1 folder có chứa 48 files số liệu có cấu trúc giống nhau ở các biến số thu thập và format trong\n",
    "mydir \n",
    "qui cd \"$hrdata\"\n",
    "dir *"
   ]
  },
  {
   "cell_type": "code",
   "execution_count": 13,
   "metadata": {},
   "outputs": [],
   "source": [
    "// Xóa những file dta trong folder\n",
    "local dtafiles: dir\".\"files\"*.dta\"\n",
    "foreach v of local dtafiles {\n",
    "    erase `v'\n",
    "}"
   ]
  },
  {
   "cell_type": "code",
   "execution_count": 14,
   "metadata": {},
   "outputs": [],
   "source": [
    "// Import tat ca cac files trong folder va luu lai file so lieu cung ten\n",
    "myimport csv"
   ]
  },
  {
   "cell_type": "code",
   "execution_count": 15,
   "metadata": {},
   "outputs": [
    {
     "name": "stdout",
     "output_type": "stream",
     "text": [
      "  <dir>   6/09/20 21:09  .                 \n",
      "  <dir>   6/09/20 21:09  ..                \n",
      "  18.1k   2/12/19 10:37  201501.csv        \n",
      "  25.2k   6/09/20 21:09  201501.dta        \n",
      "  18.2k   2/12/19 10:37  201502.csv        \n",
      "  25.3k   6/09/20 21:09  201502.dta        \n",
      "  18.2k   2/12/19 10:38  201503.csv        \n",
      "  25.3k   6/09/20 21:09  201503.dta        \n",
      "  18.5k   2/12/19 10:38  201504.csv        \n",
      "  25.6k   6/09/20 21:09  201504.dta        \n",
      "  19.1k   2/12/19 10:39  201505.csv        \n",
      "  26.1k   6/09/20 21:09  201505.dta        \n",
      "  19.9k   2/12/19 10:39  201506.csv        \n",
      "  26.7k   6/09/20 21:09  201506.dta        \n",
      "  20.4k   2/12/19 10:39  201507.csv        \n",
      "  27.2k   6/09/20 21:09  201507.dta        \n",
      "  21.2k   2/12/19 10:40  201508.csv        \n",
      "  27.9k   6/09/20 21:09  201508.dta        \n",
      "  21.7k   2/12/19 10:40  201509.csv        \n",
      "  28.3k   6/09/20 21:09  201509.dta        \n",
      "  22.8k   2/12/19 10:40  201510.csv        \n",
      "  29.2k   6/09/20 21:09  201510.dta        \n",
      "  23.6k   2/12/19 10:40  201511.csv        \n",
      "  35.0k   6/09/20 21:09  201511.dta        \n",
      "  24.0k   2/12/19 10:41  201512.csv        \n",
      "  35.5k   6/09/20 21:09  201512.dta        \n",
      "  24.9k   2/12/19 10:41  201601.csv        \n",
      "  36.5k   6/09/20 21:09  201601.dta        \n",
      "  25.5k   2/12/19 10:41  201602.csv        \n",
      "  37.1k   6/09/20 21:09  201602.dta        \n",
      "  26.9k   2/12/19 10:41  201603.csv        \n",
      "  38.6k   6/09/20 21:09  201603.dta        \n",
      "  27.6k   2/12/19 10:42  201604.csv        \n",
      "  39.3k   6/09/20 21:09  201604.dta        \n",
      "  28.1k   2/12/19 10:42  201605.csv        \n",
      "  39.8k   6/09/20 21:09  201605.dta        \n",
      "  28.7k   2/12/19 10:42  201606.csv        \n",
      "  40.4k   6/09/20 21:09  201606.dta        \n",
      "  29.3k   2/12/19 10:42  201607.csv        \n",
      "  41.1k   6/09/20 21:09  201607.dta        \n",
      "  30.7k   2/12/19 10:43  201608.csv        \n",
      "  42.5k   6/09/20 21:09  201608.dta        \n",
      "  32.4k   2/12/19 10:43  201609.csv        \n",
      "  44.3k   6/09/20 21:09  201609.dta        \n",
      "  34.2k   2/12/19 10:43  201610.csv        \n",
      "  46.2k   6/09/20 21:09  201610.dta        \n",
      "  36.8k   2/12/19 10:43  201611.csv        \n",
      "  48.9k   6/09/20 21:09  201611.dta        \n",
      "  39.6k   2/12/19 10:44  201612.csv        \n",
      "  52.0k   6/09/20 21:09  201612.dta        \n",
      "  39.4k   2/12/19 10:44  201701.csv        \n",
      "  51.6k   6/09/20 21:09  201701.dta        \n",
      "  38.8k   2/12/19 10:44  201702.csv        \n",
      "  51.0k   6/09/20 21:09  201702.dta        \n",
      "  38.9k   2/12/19 10:44  201703.csv        \n",
      "  51.0k   6/09/20 21:09  201703.dta        \n",
      "  39.2k   2/12/19 10:44  201704.csv        \n",
      "  51.3k   6/09/20 21:09  201704.dta        \n",
      "  40.5k   2/12/19 10:45  201705.csv        \n",
      "  52.6k   6/09/20 21:09  201705.dta        \n",
      "  40.6k   2/12/19 10:45  201706.csv        \n",
      "  52.7k   6/09/20 21:09  201706.dta        \n",
      "  41.3k   2/12/19 10:45  201707.csv        \n",
      "  53.5k   6/09/20 21:09  201707.dta        \n",
      "  44.8k   2/12/19 10:45  201708.csv        \n",
      "  57.0k   6/09/20 21:09  201708.dta        \n",
      "  44.3k   2/12/19 10:46  201709.csv        \n",
      "  56.6k   6/09/20 21:09  201709.dta        \n",
      "  44.7k   2/12/19 10:46  201710.csv        \n",
      "  57.2k   6/09/20 21:09  201710.dta        \n",
      "  44.6k   2/12/19 10:46  201711.csv        \n",
      "  57.3k   6/09/20 21:09  201711.dta        \n",
      "  43.8k   2/12/19 10:46  201712.csv        \n",
      "  56.4k   6/09/20 21:09  201712.dta        \n",
      "  43.4k   2/12/19 10:47  201801.csv        \n",
      "  56.0k   6/09/20 21:09  201801.dta        \n",
      "  44.3k   2/12/19 10:47  201802.csv        \n",
      "  56.9k   6/09/20 21:09  201802.dta        \n",
      "  46.2k   2/12/19 10:47  201803.csv        \n",
      "  58.9k   6/09/20 21:09  201803.dta        \n",
      "  47.9k   2/12/19 10:47  201804.csv        \n",
      "  60.5k   6/09/20 21:09  201804.dta        \n",
      "  52.9k   2/12/19 10:47  201805.csv        \n",
      "  65.6k   6/09/20 21:09  201805.dta        \n",
      "  57.1k   2/12/19 10:48  201806.csv        \n",
      "  70.3k   6/09/20 21:09  201806.dta        \n",
      "  59.2k   2/12/19 10:48  201807.csv        \n",
      "  72.2k   6/09/20 21:09  201807.dta        \n",
      "  61.9k   2/12/19 10:48  201808.csv        \n",
      "  74.6k   6/09/20 21:09  201808.dta        \n",
      "  59.9k   2/12/19 10:48  201809.csv        \n",
      "  73.0k   6/09/20 21:09  201809.dta        \n",
      "  60.7k   2/12/19 10:49  201810.csv        \n",
      "  73.8k   6/09/20 21:09  201810.dta        \n",
      "  59.6k   2/12/19 10:49  201811.csv        \n",
      "  72.8k   6/09/20 21:09  201811.dta        \n",
      "  51.2k   2/12/19 10:49  201812.csv        \n",
      "  64.4k   6/09/20 21:09  201812.dta        \n"
     ]
    }
   ],
   "source": [
    "dir *.dta"
   ]
  }
 ],
 "metadata": {
  "kernelspec": {
   "display_name": "Stata",
   "language": "stata",
   "name": "stata"
  },
  "language_info": {
   "codemirror_mode": "stata",
   "file_extension": ".do",
   "mimetype": "text/x-stata",
   "name": "stata",
   "version": "15.1"
  }
 },
 "nbformat": 4,
 "nbformat_minor": 4
}
