{
 "cells": [
  {
   "cell_type": "markdown",
   "metadata": {},
   "source": [
    "<h1 style=\"background-color:DodgerBlue;color:White;padding:20px;text-align: center;line-height:1.5;\"> <b>Import nhiều files excel cùng lúc hoặc <br> nhiều sheets của 1 file excel vào Stata</b> </h1>\n",
    "\n",
    "<i>Đào Huy Cừ</i><br>\n",
    "<i>Ngày tháng: 09 tháng 6 năm 2020</i>"
   ]
  },
  {
   "cell_type": "markdown",
   "metadata": {},
   "source": [
    "<h2><b> Import nhiều file excel trong cùng 1 folder </b></h2>"
   ]
  },
  {
   "cell_type": "markdown",
   "metadata": {},
   "source": [
    "<p> Viết chương trình loops qua và import tất cả các files </p>"
   ]
  },
  {
   "cell_type": "code",
   "execution_count": 28,
   "metadata": {},
   "outputs": [],
   "source": [
    "set linesize 165"
   ]
  },
  {
   "cell_type": "code",
   "execution_count": 1,
   "metadata": {},
   "outputs": [],
   "source": [
    "cap program drop myimport\n",
    "program define myimport \n",
    "version 15\n",
    "args ddang noifiles\n",
    "global filenames : dir\".\"files\"*.`ddang'\"\n",
    "\n",
    "foreach filename of global filenames {\n",
    "\tlocal filename1 = subinstr(\"`filename'\",\" \",\"\",.)        \n",
    "\tlocal filename2 = subinstr(\"`filename1'\",\".`ddang'\",\"\",.) \n",
    "    if (\"`ddang'\" == \"xlsx\") | (\"`ddang'\"== \"xls\") {\n",
    "        qui import excel using `\"`filename'\"', first all clear\n",
    "        qui save `\"`filename2'.dta\"', replace\n",
    "        clear\n",
    "    }\n",
    "    if (\"`ddang'\" == \"csv\") {\n",
    "        qui import delimited using `\"`filename'\"', clear\n",
    "        qui save `\"`filename2'.dta\"', replace\n",
    "        clear\n",
    "    }\n",
    "}\n",
    "// Nối các dta files lại với nhau\n",
    "if \"`noifiles'\"!=\"\" {\n",
    "local files:dir\".\"files\"*.dta\"\n",
    "local listfiles = \"\"\n",
    "foreach f of local files {\n",
    "    local listfiles = \"`listfiles'\" + \" `f'\"\n",
    "}\n",
    "local w1      = word(\"`listfiles'\",1)\n",
    "local wconlai = subinword(\"`listfiles'\",\"`w1'\",\"\",1) //Stata 15.1 SE\n",
    "qui use `w1', clear\n",
    "qui append using `wconlai', gen(varmark)\n",
    "di as text \"all dta files are appended, \" _newline \"variable varmark are generated from option gen() of append command\"\n",
    "}\n",
    "end"
   ]
  },
  {
   "cell_type": "code",
   "execution_count": 2,
   "metadata": {},
   "outputs": [
    {
     "name": "stdout",
     "output_type": "stream",
     "text": [
      "\n",
      "\n",
      "\n",
      "  18.1k   2/12/19 10:37  201501.csv        \n",
      "  18.2k   2/12/19 10:37  201502.csv        \n",
      "  18.2k   2/12/19 10:38  201503.csv        \n",
      "  18.5k   2/12/19 10:38  201504.csv        \n",
      "  19.1k   2/12/19 10:39  201505.csv        \n",
      "  19.9k   2/12/19 10:39  201506.csv        \n",
      "  20.4k   2/12/19 10:39  201507.csv        \n",
      "  21.2k   2/12/19 10:40  201508.csv        \n",
      "  21.7k   2/12/19 10:40  201509.csv        \n",
      "  22.8k   2/12/19 10:40  201510.csv        \n",
      "  23.6k   2/12/19 10:40  201511.csv        \n",
      "  24.0k   2/12/19 10:41  201512.csv        \n",
      "  24.9k   2/12/19 10:41  201601.csv        \n",
      "  25.5k   2/12/19 10:41  201602.csv        \n",
      "  26.9k   2/12/19 10:41  201603.csv        \n",
      "  27.6k   2/12/19 10:42  201604.csv        \n",
      "  28.1k   2/12/19 10:42  201605.csv        \n",
      "  28.7k   2/12/19 10:42  201606.csv        \n",
      "  29.3k   2/12/19 10:42  201607.csv        \n",
      "  30.7k   2/12/19 10:43  201608.csv        \n",
      "  32.4k   2/12/19 10:43  201609.csv        \n",
      "  34.2k   2/12/19 10:43  201610.csv        \n",
      "  36.8k   2/12/19 10:43  201611.csv        \n",
      "  39.6k   2/12/19 10:44  201612.csv        \n",
      "  39.4k   2/12/19 10:44  201701.csv        \n",
      "  38.8k   2/12/19 10:44  201702.csv        \n",
      "  38.9k   2/12/19 10:44  201703.csv        \n",
      "  39.2k   2/12/19 10:44  201704.csv        \n",
      "  40.5k   2/12/19 10:45  201705.csv        \n",
      "  40.6k   2/12/19 10:45  201706.csv        \n",
      "  41.3k   2/12/19 10:45  201707.csv        \n",
      "  44.8k   2/12/19 10:45  201708.csv        \n",
      "  44.3k   2/12/19 10:46  201709.csv        \n",
      "  44.7k   2/12/19 10:46  201710.csv        \n",
      "  44.6k   2/12/19 10:46  201711.csv        \n",
      "  43.8k   2/12/19 10:46  201712.csv        \n",
      "  43.4k   2/12/19 10:47  201801.csv        \n",
      "  44.3k   2/12/19 10:47  201802.csv        \n",
      "  46.2k   2/12/19 10:47  201803.csv        \n",
      "  47.9k   2/12/19 10:47  201804.csv        \n",
      "  52.9k   2/12/19 10:47  201805.csv        \n",
      "  57.1k   2/12/19 10:48  201806.csv        \n",
      "  59.2k   2/12/19 10:48  201807.csv        \n",
      "  61.9k   2/12/19 10:48  201808.csv        \n",
      "  59.9k   2/12/19 10:48  201809.csv        \n",
      "  60.7k   2/12/19 10:49  201810.csv        \n",
      "  59.6k   2/12/19 10:49  201811.csv        \n",
      "  51.2k   2/12/19 10:49  201812.csv        \n"
     ]
    }
   ],
   "source": [
    "// Ví dụ về 1 folder có chứa 48 files số liệu có cấu trúc giống nhau ở các biến số thu thập và format trong\n",
    "mydir\n",
    "qui cd \"$hrdata\"\n",
    "dir *.csv"
   ]
  },
  {
   "cell_type": "code",
   "execution_count": 3,
   "metadata": {},
   "outputs": [],
   "source": [
    "// Xóa những file dta trong folder\n",
    "clear\n",
    "local dtafiles: dir\".\"files\"*.dta\"\n",
    "foreach v of local dtafiles {\n",
    "    erase `v'\n",
    "}"
   ]
  },
  {
   "cell_type": "code",
   "execution_count": 4,
   "metadata": {},
   "outputs": [
    {
     "name": "stdout",
     "output_type": "stream",
     "text": [
      "all dta files are appended, \n",
      "variable varmark are generated from option gen() of append command\n"
     ]
    }
   ],
   "source": [
    "// Import tat ca cac files trong folder va luu lai file so lieu cung ten\n",
    "myimport csv noifiles"
   ]
  },
  {
   "cell_type": "code",
   "execution_count": 5,
   "metadata": {},
   "outputs": [
    {
     "name": "stdout",
     "output_type": "stream",
     "text": [
      "\n",
      "    varmark |      Freq.     Percent        Cum.\n",
      "------------+-----------------------------------\n",
      "          0 |        228        1.03        1.03\n",
      "          1 |        229        1.03        2.07\n",
      "          2 |        229        1.03        3.10\n",
      "          3 |        233        1.05        4.15\n",
      "          4 |        242        1.09        5.25\n",
      "          5 |        251        1.13        6.38\n",
      "          6 |        258        1.17        7.55\n",
      "          7 |        269        1.22        8.76\n",
      "          8 |        275        1.24       10.00\n",
      "          9 |        289        1.31       11.31\n",
      "         10 |        298        1.35       12.66\n",
      "         11 |        304        1.37       14.03\n",
      "         12 |        316        1.43       15.46\n",
      "         13 |        324        1.46       16.92\n",
      "         14 |        342        1.55       18.47\n",
      "         15 |        350        1.58       20.05\n",
      "         16 |        357        1.61       21.66\n",
      "         17 |        364        1.64       23.31\n",
      "         18 |        372        1.68       24.99\n",
      "         19 |        390        1.76       26.75\n",
      "         20 |        411        1.86       28.61\n",
      "         21 |        435        1.97       30.58\n",
      "         22 |        468        2.11       32.69\n",
      "         23 |        499        2.25       34.95\n",
      "         24 |        495        2.24       37.18\n",
      "         25 |        488        2.21       39.39\n",
      "         26 |        488        2.21       41.59\n",
      "         27 |        491        2.22       43.81\n",
      "         28 |        507        2.29       46.10\n",
      "         29 |        508        2.30       48.40\n",
      "         30 |        517        2.34       50.73\n",
      "         31 |        560        2.53       53.26\n",
      "         32 |        555        2.51       55.77\n",
      "         33 |        562        2.54       58.31\n",
      "         34 |        563        2.54       60.86\n",
      "         35 |        553        2.50       63.36\n",
      "         36 |        548        2.48       65.83\n",
      "         37 |        558        2.52       68.35\n",
      "         38 |        582        2.63       70.98\n",
      "         39 |        602        2.72       73.70\n",
      "         40 |        663        3.00       76.70\n",
      "         41 |        720        3.25       79.95\n",
      "         42 |        743        3.36       83.31\n",
      "         43 |        772        3.49       86.80\n",
      "         44 |        752        3.40       90.20\n",
      "         45 |        762        3.44       93.64\n",
      "         46 |        750        3.39       97.03\n",
      "         47 |        657        2.97      100.00\n",
      "------------+-----------------------------------\n",
      "      Total |     22,129      100.00\n"
     ]
    }
   ],
   "source": [
    "tab varmark"
   ]
  },
  {
   "cell_type": "markdown",
   "metadata": {},
   "source": [
    "<h2>Một cách khác là sử dụng <i>xls2dta</i> command</h2>"
   ]
  },
  {
   "cell_type": "code",
   "execution_count": 9,
   "metadata": {},
   "outputs": [],
   "source": [
    "// Nếu chưa cài đặt câu lệnh này thì cần tải nó xuống.\n",
    "cap which xls2dta\n",
    "if _rc ssc install xls2dta"
   ]
  },
  {
   "cell_type": "code",
   "execution_count": 33,
   "metadata": {},
   "outputs": [
    {
     "name": "stdout",
     "output_type": "stream",
     "text": [
      "  64.5k   6/17/20 11:00  201501.xls        \n",
      "  65.0k   6/17/20 11:00  201502.xls        \n",
      "  65.0k   6/17/20 11:00  201503.xls        \n",
      "  66.0k   6/17/20 11:00  201504.xls        \n",
      "  68.5k   6/17/20 11:00  201505.xls        \n"
     ]
    }
   ],
   "source": [
    "dir *.xls"
   ]
  },
  {
   "cell_type": "code",
   "execution_count": 31,
   "metadata": {},
   "outputs": [],
   "source": [
    "qui local wd: pwd\n",
    "qui xls2dta, save(\"`wd'\", replace): import excel \"`wd'\"\n",
    "qui xls2dta, save(\"`wd'\\completed.dta\", replace): append"
   ]
  },
  {
   "cell_type": "code",
   "execution_count": 32,
   "metadata": {},
   "outputs": [
    {
     "name": "stdout",
     "output_type": "stream",
     "text": [
      "\n",
      "\n",
      "  1,166\n"
     ]
    }
   ],
   "source": [
    "use completed.dta, clear\n",
    "count "
   ]
  },
  {
   "cell_type": "markdown",
   "metadata": {},
   "source": [
    "<h2 style=\"color: red;line-height:1.5;\">Ngoài ra xls2dta còn có thể import và nối số liệu ở nhiều sheet trong cùng 1 files<br>Tuy nhiên hạn chế là không import được file định dạng csv</h2>"
   ]
  }
 ],
 "metadata": {
  "kernelspec": {
   "display_name": "Stata",
   "language": "stata",
   "name": "stata"
  },
  "language_info": {
   "codemirror_mode": "stata",
   "file_extension": ".do",
   "mimetype": "text/x-stata",
   "name": "stata",
   "version": "15.1"
  }
 },
 "nbformat": 4,
 "nbformat_minor": 4
}
