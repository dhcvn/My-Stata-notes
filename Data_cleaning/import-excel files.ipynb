{
 "cells": [
  {
   "cell_type": "markdown",
   "metadata": {},
   "source": [
    "# <b>Import nhiều files excel cùng lúc hoặc <br> nhiều sheets của 1 file excel vào Stata</b>\n",
    "\n",
    "<b><i>Đào Huy Cừ</i></b><br>\n",
    "<b><i>Ngày tháng:</i></b>"
   ]
  },
  {
   "cell_type": "markdown",
   "metadata": {},
   "source": [
    "<h2><b> Import nhiều file excel trong cùng 1 folder </b></h2>"
   ]
  },
  {
   "cell_type": "markdown",
   "metadata": {},
   "source": [
    "<p> Viết chương trình loops qua và import tất cả các files </p>"
   ]
  },
  {
   "cell_type": "markdown",
   "metadata": {},
   "source": [
    "<p>Có thể cải thiện chương trình bằng việc import đuôi files cụ thể</p>"
   ]
  },
  {
   "cell_type": "code",
   "execution_count": null,
   "metadata": {},
   "outputs": [],
   "source": [
    "set varabbrev off\n",
    "cap program drop myimport\n",
    "program define myimport \n",
    "\n",
    "// Liệt kê tất cả files excel có trong working directory và lưu vào filenames\n",
    "global filenames : dir\".\"files\"*.csv\"\n",
    "* Lưu ý: có thể thay đổi đuôi của file từ .xlsx bằng các định dạng file khác bao gồm: xls, csv\n",
    "\n",
    "//Tạo vòng lặp qua từng file trong $filenames với vòng lặp foreach\n",
    "foreach filename in $filenames {\n",
    "    // import số liệu vào excel\n",
    "\timport excel using `\"`filename'\"', first all clear\n",
    "    * Sử dụng option all để bảo vệ số liệu ở những biến số mixed type (string + numeric), quy hết về string\n",
    "    \n",
    "    // Đặt tên cho file số liệu sẽ lưu lại dưới dạng stata\n",
    "\tlocal filename1 = subinstr(\"`filename'\",\" \",\"\",.)      // Loại bỏ dấu cách trong tên file\n",
    "\tlocal filename2 = subinstr(\"`filename1'\",\".csv\",\"\",.)  //Loại bỏ phần đuôi trong tên file\n",
    "    \n",
    "    // lưu lại số liệu\n",
    "\tsave `\"`filename2'.dta\"', replace\n",
    "}\n",
    "end"
   ]
  },
  {
   "cell_type": "code",
   "execution_count": 9,
   "metadata": {},
   "outputs": [
    {
     "name": "stdout",
     "output_type": "stream",
     "text": [
      "\n",
      "\n",
      "\n",
      "  <dir>  12/11/19 23:12  .                 \n",
      "  <dir>  12/11/19 23:12  ..                \n",
      "  18.1k   2/12/19 10:37  201501.csv        \n",
      "  18.2k   2/12/19 10:37  201502.csv        \n",
      "  18.2k   2/12/19 10:38  201503.csv        \n",
      "  18.5k   2/12/19 10:38  201504.csv        \n",
      "  19.1k   2/12/19 10:39  201505.csv        \n",
      "  19.9k   2/12/19 10:39  201506.csv        \n",
      "  20.4k   2/12/19 10:39  201507.csv        \n",
      "  21.2k   2/12/19 10:40  201508.csv        \n",
      "  21.7k   2/12/19 10:40  201509.csv        \n",
      "  22.8k   2/12/19 10:40  201510.csv        \n",
      "  23.6k   2/12/19 10:40  201511.csv        \n",
      "  24.0k   2/12/19 10:41  201512.csv        \n",
      "  24.9k   2/12/19 10:41  201601.csv        \n",
      "  25.5k   2/12/19 10:41  201602.csv        \n",
      "  26.9k   2/12/19 10:41  201603.csv        \n",
      "  27.6k   2/12/19 10:42  201604.csv        \n",
      "  28.1k   2/12/19 10:42  201605.csv        \n",
      "  28.7k   2/12/19 10:42  201606.csv        \n",
      "  29.3k   2/12/19 10:42  201607.csv        \n",
      "  30.7k   2/12/19 10:43  201608.csv        \n",
      "  32.4k   2/12/19 10:43  201609.csv        \n",
      "  34.2k   2/12/19 10:43  201610.csv        \n",
      "  36.8k   2/12/19 10:43  201611.csv        \n",
      "  39.6k   2/12/19 10:44  201612.csv        \n",
      "  39.4k   2/12/19 10:44  201701.csv        \n",
      "  38.8k   2/12/19 10:44  201702.csv        \n",
      "  38.9k   2/12/19 10:44  201703.csv        \n",
      "  39.2k   2/12/19 10:44  201704.csv        \n",
      "  40.5k   2/12/19 10:45  201705.csv        \n",
      "  40.6k   2/12/19 10:45  201706.csv        \n",
      "  41.3k   2/12/19 10:45  201707.csv        \n",
      "  44.8k   2/12/19 10:45  201708.csv        \n",
      "  44.3k   2/12/19 10:46  201709.csv        \n",
      "  44.7k   2/12/19 10:46  201710.csv        \n",
      "  44.6k   2/12/19 10:46  201711.csv        \n",
      "  43.8k   2/12/19 10:46  201712.csv        \n",
      "  43.4k   2/12/19 10:47  201801.csv        \n",
      "  44.3k   2/12/19 10:47  201802.csv        \n",
      "  46.2k   2/12/19 10:47  201803.csv        \n",
      "  47.9k   2/12/19 10:47  201804.csv        \n",
      "  52.9k   2/12/19 10:47  201805.csv        \n",
      "  57.1k   2/12/19 10:48  201806.csv        \n",
      "  59.2k   2/12/19 10:48  201807.csv        \n",
      "  61.9k   2/12/19 10:48  201808.csv        \n",
      "  59.9k   2/12/19 10:48  201809.csv        \n",
      "  60.7k   2/12/19 10:49  201810.csv        \n",
      "  59.6k   2/12/19 10:49  201811.csv        \n",
      "  51.2k   2/12/19 10:49  201812.csv        \n"
     ]
    }
   ],
   "source": [
    "// Ví dụ về 1 folder có chứa 48 files số liệu có cấu trúc giống nhau ở các biến số thu thập và format trong\n",
    "mydir \n",
    "qui cd \"$hrdata\"\n",
    "dir *"
   ]
  },
  {
   "cell_type": "code",
   "execution_count": null,
   "metadata": {},
   "outputs": [],
   "source": []
  }
 ],
 "metadata": {
  "kernelspec": {
   "display_name": "Stata",
   "language": "stata",
   "name": "stata"
  },
  "language_info": {
   "codemirror_mode": "stata",
   "file_extension": ".do",
   "mimetype": "text/x-stata",
   "name": "stata",
   "version": "15.1"
  }
 },
 "nbformat": 4,
 "nbformat_minor": 4
}
