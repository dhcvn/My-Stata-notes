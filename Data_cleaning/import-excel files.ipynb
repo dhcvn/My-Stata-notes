{
 "cells": [
  {
   "cell_type": "markdown",
   "metadata": {},
   "source": [
    "# Import nhiều files excel cùng lúc hoặc nhiều sheets của 1 file excel vào Stata\n",
    "\n",
    "Đào Huy Cừ - 09/06/2020 - Stata version 15.1"
   ]
  },
  {
   "cell_type": "markdown",
   "metadata": {},
   "source": [
    "<h2><b> Import nhiều file excel trong cùng 1 folder </b></h2>"
   ]
  },
  {
   "cell_type": "markdown",
   "metadata": {},
   "source": [
    "### Sử dụng câu lệnh xls2dta"
   ]
  },
  {
   "cell_type": "code",
   "execution_count": 1,
   "metadata": {},
   "outputs": [],
   "source": [
    "// Cài đặt câu lệnh xls2dta\n",
    "cap which xls2dta\n",
    "if _rc ssc install xls2dta"
   ]
  },
  {
   "cell_type": "code",
   "execution_count": 2,
   "metadata": {
    "scrolled": true
   },
   "outputs": [
    {
     "name": "stdout",
     "output_type": "stream",
     "text": [
      "\n",
      "\n",
      "\n",
      "  64.5k   6/17/20 11:00  201501.xls        \n",
      "  65.0k   6/17/20 11:00  201502.xls        \n",
      "  65.0k   6/17/20 11:00  201503.xls        \n",
      "  66.0k   6/17/20 11:00  201504.xls        \n",
      "  68.5k   6/17/20 11:00  201505.xls        \n"
     ]
    }
   ],
   "source": [
    "mydir // lệnh gọi thư mục trong máy tính chứa datas\n",
    "qui cd \"$hrdata\"\n",
    "dir *.xls"
   ]
  },
  {
   "cell_type": "code",
   "execution_count": 3,
   "metadata": {},
   "outputs": [
    {
     "name": "stdout",
     "output_type": "stream",
     "text": [
      "\n",
      "\n",
      "\n",
      "     Sheet | Range\n",
      "  ---------+---------\n",
      "    Sheet1 | A1:P229\n",
      "\n",
      "     Sheet | Range\n",
      "  ---------+---------\n",
      "    Sheet1 | A1:P230\n",
      "\n",
      "     Sheet | Range\n",
      "  ---------+---------\n",
      "    Sheet1 | A1:P230\n",
      "\n",
      "     Sheet | Range\n",
      "  ---------+---------\n",
      "    Sheet1 | A1:P234\n",
      "\n",
      "     Sheet | Range\n",
      "  ---------+---------\n",
      "    Sheet1 | A1:P243\n"
     ]
    }
   ],
   "source": [
    "// Mô tả số liệu định import\n",
    "local xlsfiles: dir\".\"files\"*.xls\"\n",
    "foreach xls of local xlsfiles {\n",
    "    import excel using `xls', describe\n",
    "}"
   ]
  },
  {
   "cell_type": "code",
   "execution_count": 4,
   "metadata": {},
   "outputs": [
    {
     "name": "stdout",
     "output_type": "stream",
     "text": [
      "\n",
      "\n",
      "file D:\\NTP\\Course-191204-CDC data visual\\dashboard from youtube\\HR Data\\201501.\n",
      "> dta saved\n",
      "file D:\\NTP\\Course-191204-CDC data visual\\dashboard from youtube\\HR Data\\201502.\n",
      "> dta saved\n",
      "file D:\\NTP\\Course-191204-CDC data visual\\dashboard from youtube\\HR Data\\201503.\n",
      "> dta saved\n",
      "file D:\\NTP\\Course-191204-CDC data visual\\dashboard from youtube\\HR Data\\201504.\n",
      "> dta saved\n",
      "file D:\\NTP\\Course-191204-CDC data visual\\dashboard from youtube\\HR Data\\201505.\n",
      "> dta saved\n",
      "\n",
      "(note: file D:\\NTP\\Course-191204-CDC data visual\\dashboard from youtube\\HR Data\\\n",
      "> completed.dta not found)\n",
      "file D:\\NTP\\Course-191204-CDC data visual\\dashboard from youtube\\HR Data\\complet\n",
      "> ed.dta saved\n"
     ]
    }
   ],
   "source": [
    "// Import số liệu với xls2dta\n",
    "local wd: pwd\n",
    "// Tham số đưa vào khi import số liệu là folder chứa toàn bố số liệu cần import, chứ không phải từng tên file riêng\n",
    "xls2dta, save(\"`wd'\", replace): import excel \"`wd'\"\n",
    "\n",
    "// Import số liệu vào stata và nối các file cùng định dạng với nhau\n",
    "xls2dta, save(\"`wd'\\completed.dta\", replace): append"
   ]
  },
  {
   "cell_type": "code",
   "execution_count": 5,
   "metadata": {},
   "outputs": [
    {
     "name": "stdout",
     "output_type": "stream",
     "text": [
      "\n",
      "\n",
      "  1,166\n"
     ]
    }
   ],
   "source": [
    "use completed.dta, clear\n",
    "count "
   ]
  },
  {
   "cell_type": "markdown",
   "metadata": {},
   "source": [
    "### Sử dụng chương trình tự xây dựng (hiểu cơ bản về programming Stata)"
   ]
  },
  {
   "cell_type": "code",
   "execution_count": 6,
   "metadata": {},
   "outputs": [],
   "source": [
    "set linesize 165\n",
    "cap program drop myimport\n",
    "program define myimport \n",
    "version 15\n",
    "args ddang noifiles\n",
    "global filenames : dir\".\"files\"*.`ddang'\"\n",
    "\n",
    "foreach filename of global filenames {\n",
    "\tlocal filename1 = subinstr(\"`filename'\",\" \",\"\",.)        \n",
    "\tlocal filename2 = subinstr(\"`filename1'\",\".`ddang'\",\"\",.) \n",
    "    if (\"`ddang'\" == \"xlsx\") | (\"`ddang'\"== \"xls\") {\n",
    "        qui import excel using `\"`filename'\"', first all clear\n",
    "        qui save `\"`filename2'.dta\"', replace\n",
    "        clear\n",
    "    }\n",
    "    if (\"`ddang'\" == \"csv\") {\n",
    "        qui import delimited using `\"`filename'\"', clear\n",
    "        qui save `\"`filename2'.dta\"', replace\n",
    "        clear\n",
    "    }\n",
    "}\n",
    "// Nối các dta files lại với nhau\n",
    "if \"`noifiles'\"!=\"\" {\n",
    "    local files:dir\".\"files\"*.dta\"\n",
    "    clear\n",
    "    local nfile = 1\n",
    "    foreach f of local files {\n",
    "        qui append using `f'\n",
    "        cap gen varmark = `nfile'\n",
    "        local ++nfile\n",
    "        qui replace varmark = `nfile'\n",
    "        }\n",
    "    di as text \"all dta files are appended, \" _newline\n",
    "}\n",
    "end"
   ]
  },
  {
   "cell_type": "code",
   "execution_count": 7,
   "metadata": {},
   "outputs": [
    {
     "name": "stdout",
     "output_type": "stream",
     "text": [
      "  18.1k   2/12/19 10:37  201501.csv        \n",
      "  18.2k   2/12/19 10:37  201502.csv        \n",
      "  18.2k   2/12/19 10:38  201503.csv        \n",
      "  18.5k   2/12/19 10:38  201504.csv        \n",
      "  19.1k   2/12/19 10:39  201505.csv        \n",
      "  19.9k   2/12/19 10:39  201506.csv        \n",
      "  20.4k   2/12/19 10:39  201507.csv        \n",
      "  21.2k   2/12/19 10:40  201508.csv        \n",
      "  21.7k   2/12/19 10:40  201509.csv        \n",
      "  22.8k   2/12/19 10:40  201510.csv        \n",
      "  23.6k   2/12/19 10:40  201511.csv        \n",
      "  24.0k   2/12/19 10:41  201512.csv        \n",
      "  24.9k   2/12/19 10:41  201601.csv        \n",
      "  25.5k   2/12/19 10:41  201602.csv        \n",
      "  26.9k   2/12/19 10:41  201603.csv        \n",
      "  27.6k   2/12/19 10:42  201604.csv        \n",
      "  28.1k   2/12/19 10:42  201605.csv        \n",
      "  28.7k   2/12/19 10:42  201606.csv        \n",
      "  29.3k   2/12/19 10:42  201607.csv        \n",
      "  30.7k   2/12/19 10:43  201608.csv        \n",
      "  32.4k   2/12/19 10:43  201609.csv        \n",
      "  34.2k   2/12/19 10:43  201610.csv        \n",
      "  36.8k   2/12/19 10:43  201611.csv        \n",
      "  39.6k   2/12/19 10:44  201612.csv        \n",
      "  39.4k   2/12/19 10:44  201701.csv        \n",
      "  38.8k   2/12/19 10:44  201702.csv        \n",
      "  38.9k   2/12/19 10:44  201703.csv        \n",
      "  39.2k   2/12/19 10:44  201704.csv        \n",
      "  40.5k   2/12/19 10:45  201705.csv        \n",
      "  40.6k   2/12/19 10:45  201706.csv        \n",
      "  41.3k   2/12/19 10:45  201707.csv        \n",
      "  44.8k   2/12/19 10:45  201708.csv        \n",
      "  44.3k   2/12/19 10:46  201709.csv        \n",
      "  44.7k   2/12/19 10:46  201710.csv        \n",
      "  44.6k   2/12/19 10:46  201711.csv        \n",
      "  43.8k   2/12/19 10:46  201712.csv        \n",
      "  43.4k   2/12/19 10:47  201801.csv        \n",
      "  44.3k   2/12/19 10:47  201802.csv        \n",
      "  46.2k   2/12/19 10:47  201803.csv        \n",
      "  47.9k   2/12/19 10:47  201804.csv        \n",
      "  52.9k   2/12/19 10:47  201805.csv        \n",
      "  57.1k   2/12/19 10:48  201806.csv        \n",
      "  59.2k   2/12/19 10:48  201807.csv        \n",
      "  61.9k   2/12/19 10:48  201808.csv        \n",
      "  59.9k   2/12/19 10:48  201809.csv        \n",
      "  60.7k   2/12/19 10:49  201810.csv        \n",
      "  59.6k   2/12/19 10:49  201811.csv        \n",
      "  51.2k   2/12/19 10:49  201812.csv        \n"
     ]
    }
   ],
   "source": [
    "// Ví dụ về 1 folder có chứa 48 files số liệu có cấu trúc giống nhau ở các biến số thu thập và format trong\n",
    "dir *.csv"
   ]
  },
  {
   "cell_type": "code",
   "execution_count": 8,
   "metadata": {},
   "outputs": [],
   "source": [
    "// Xóa những file dta trong folder\n",
    "clear\n",
    "local dtafiles: dir\".\"files\"*.dta\"\n",
    "foreach v of local dtafiles {\n",
    "    erase `v'\n",
    "}"
   ]
  },
  {
   "cell_type": "code",
   "execution_count": 12,
   "metadata": {},
   "outputs": [
    {
     "name": "stdout",
     "output_type": "stream",
     "text": [
      "variable empid is str6 in master but long in using data\n",
      "    You could specify append's force option to ignore this string/numeric mismatch.  The using variable would then be treated as if it contained \"\".\n"
     ]
    },
    {
     "name": "stderr",
     "output_type": "stream",
     "text": [
      "r(106);\n"
     ]
    },
    {
     "name": "stdout",
     "output_type": "stream",
     "text": [
      "\n"
     ]
    }
   ],
   "source": [
    "// Import tat ca cac files trong folder va luu lai file so lieu cung ten\n",
    "myimport xls noifiles"
   ]
  },
  {
   "cell_type": "code",
   "execution_count": 11,
   "metadata": {},
   "outputs": [
    {
     "name": "stdout",
     "output_type": "stream",
     "text": [
      "D:\\NTP\\Course-191204-CDC data visual\\dashboard from youtube\\HR Data\n"
     ]
    }
   ],
   "source": []
  },
  {
   "cell_type": "code",
   "execution_count": 10,
   "metadata": {},
   "outputs": [
    {
     "name": "stdout",
     "output_type": "stream",
     "text": [
      "\n",
      "    varmark |      Freq.     Percent        Cum.\n",
      "------------+-----------------------------------\n",
      "         49 |     22,129      100.00      100.00\n",
      "------------+-----------------------------------\n",
      "      Total |     22,129      100.00\n"
     ]
    }
   ],
   "source": [
    "tab varmark"
   ]
  }
 ],
 "metadata": {
  "kernelspec": {
   "display_name": "Stata",
   "language": "stata",
   "name": "stata"
  },
  "language_info": {
   "codemirror_mode": "stata",
   "file_extension": ".do",
   "mimetype": "text/x-stata",
   "name": "stata",
   "version": "15.1"
  }
 },
 "nbformat": 4,
 "nbformat_minor": 4
}
