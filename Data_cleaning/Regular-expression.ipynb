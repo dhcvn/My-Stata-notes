{
 "cells": [
  {
   "cell_type": "markdown",
   "metadata": {},
   "source": [
    "<h1 style=\"background-color: DodgerBlue;color:white;padding:20px;text-align: center;\"> <b>Regular expression trong Stata </b></h1>"
   ]
  },
  {
   "cell_type": "code",
   "execution_count": 1,
   "metadata": {},
   "outputs": [
    {
     "name": "stdout",
     "output_type": "stream",
     "text": [
      "\n",
      "Đào Huy Cừ\n",
      "\n",
      "22 Jul 2020\n",
      "\n",
      "Stata version: 15.1 SE\n",
      "\n",
      "Hệ điều hành: Windows PC (64-bit x86-64)\n",
      "\n"
     ]
    }
   ],
   "source": [
    "// Thông tin về máy tính\n",
    "di \"Đào Huy Cừ\"\n",
    "di c(current_date)\n",
    "di \"Stata version: \" c(stata_version) \" SE\"\n",
    "di \"Hệ điều hành: \"  c(os) \" \" c(machine_type)\n",
    "set varabbrev off"
   ]
  },
  {
   "cell_type": "markdown",
   "metadata": {},
   "source": [
    "<h2> Regular expression trong stata được chia làm 3 cách sử dụng: <br></h2>\n",
    "    <ul style=\"line-height: 180%\">\n",
    " <li><b>regexm(s,re):</b> trả về giá trị 1 nếu thỏa mãn regular expression (re) trong s, nếu không trả về giá trị 0</li>\n",
    " <li><b>regexs(n):</b> lấy biểu thức con từ regexm() trước đó</li>\n",
    " <li><b>regexr(s1,re,s2):</b> Thay thế giá trị trong s1 thỏa mãn regular expression (re) bằng s2</li>\n",
    "    </ul>"
   ]
  },
  {
   "cell_type": "markdown",
   "metadata": {},
   "source": [
    "## 1. regexm():"
   ]
  },
  {
   "cell_type": "code",
   "execution_count": 2,
   "metadata": {},
   "outputs": [
    {
     "name": "stdout",
     "output_type": "stream",
     "text": [
      "\n",
      "\n",
      ". list\n",
      "\n",
      "     +--------------+\n",
      "     |         date |\n",
      "     |--------------|\n",
      "  1. |    20jan2007 |\n",
      "  2. |     16June06 |\n",
      "  3. |   06sept1985 |\n",
      "  4. |     21june04 |\n",
      "  5. |      4july90 |\n",
      "     |--------------|\n",
      "  6. |     9jan1999 |\n",
      "  7. |       6aug99 |\n",
      "  8. | 19august2003 |\n",
      "  9. |   aug19-2003 |\n",
      " 10. |    jan9-2003 |\n",
      "     |--------------|\n",
      " 11. |   july4-2004 |\n",
      "     +--------------+\n"
     ]
    }
   ],
   "source": [
    "qui {\n",
    "    clear\n",
    "    input str18 date\n",
    "    20jan2007 \n",
    "    16June06\n",
    "    06sept1985\n",
    "    21june04\n",
    "    4july90\n",
    "    9jan1999\n",
    "    6aug99\n",
    "    19august2003\n",
    "    aug19-2003\n",
    "    jan9-2003\n",
    "    july4-2004\n",
    "    end\n",
    "}\n",
    "list"
   ]
  },
  {
   "cell_type": "code",
   "execution_count": 3,
   "metadata": {},
   "outputs": [
    {
     "name": "stdout",
     "output_type": "stream",
     "text": [
      "\n",
      "     +--------------+\n",
      "     |         date |\n",
      "     |--------------|\n",
      "  1. |    20jan2007 |\n",
      "  2. |     16June06 |\n",
      "  3. |   06sept1985 |\n",
      "  4. |     21june04 |\n",
      "  5. |      4july90 |\n",
      "     |--------------|\n",
      "  6. |     9jan1999 |\n",
      "  7. |       6aug99 |\n",
      "  8. | 19august2003 |\n",
      "     +--------------+\n"
     ]
    }
   ],
   "source": [
    "//Lọc danh sách những ngày bắt đầu từ con số\n",
    "list date if regexm(date,\"^[0-9]+\")"
   ]
  },
  {
   "cell_type": "code",
   "execution_count": 4,
   "metadata": {},
   "outputs": [
    {
     "name": "stdout",
     "output_type": "stream",
     "text": [
      "\n",
      "     +------------+\n",
      "     |       date |\n",
      "     |------------|\n",
      "  9. | aug19-2003 |\n",
      " 10. |  jan9-2003 |\n",
      " 11. | july4-2004 |\n",
      "     +------------+\n"
     ]
    }
   ],
   "source": [
    "//Lọc danh sách những ngày bắt đầu bằng tháng\n",
    "list date if regexm(date,\"^[a-zA-Z]\")"
   ]
  },
  {
   "cell_type": "code",
   "execution_count": 5,
   "metadata": {},
   "outputs": [
    {
     "name": "stdout",
     "output_type": "stream",
     "text": [
      "\n",
      "     +----------+\n",
      "     |     date |\n",
      "     |----------|\n",
      "  2. | 16June06 |\n",
      "  4. | 21june04 |\n",
      "  5. |  4july90 |\n",
      "  7. |   6aug99 |\n",
      "     +----------+\n"
     ]
    }
   ],
   "source": [
    "//Lọc danh sách những ngày kết thúc là năm có 2 chữ số\n",
    "list date if regexm(date,\"[a-z][0-9][0-9]$\")"
   ]
  },
  {
   "cell_type": "markdown",
   "metadata": {},
   "source": [
    "Notes:\n",
    "- \"^\": Để đánh dấu là bắt đầu của chuỗi string\n",
    "- \"$\": Để đánh dấu là kết thúc của chuỗi string\n",
    "- \"+\": thể hiện regular expression có thể được thỏa mãn 1 hoặc nhiều hơn 1 lần"
   ]
  },
  {
   "cell_type": "markdown",
   "metadata": {},
   "source": [
    "## 2. regexs():"
   ]
  },
  {
   "cell_type": "code",
   "execution_count": 6,
   "metadata": {},
   "outputs": [
    {
     "name": "stdout",
     "output_type": "stream",
     "text": [
      "\n",
      "\n",
      ". list\n",
      "\n",
      "     +--------------------------------------+\n",
      "     |         date   day1   month1   year1 |\n",
      "     |--------------------------------------|\n",
      "  1. |    20jan2007     20      jan    2007 |\n",
      "  2. |     16June06     16     June      06 |\n",
      "  3. |   06sept1985     06     sept    1985 |\n",
      "  4. |     21june04     21     june      04 |\n",
      "  5. |      4july90      4     july      90 |\n",
      "     |--------------------------------------|\n",
      "  6. |     9jan1999      9      jan    1999 |\n",
      "  7. |       6aug99      6      aug      99 |\n",
      "  8. | 19august2003     19   august    2003 |\n",
      "  9. |   aug19-2003     19      aug    2003 |\n",
      " 10. |    jan9-2003      9      jan    2003 |\n",
      "     |--------------------------------------|\n",
      " 11. |   july4-2004      4     july    2004 |\n",
      "     +--------------------------------------+\n"
     ]
    }
   ],
   "source": [
    "//Tạo biến ngày từ biến date đẫ cho (lấy từng giá trị mong muốn)\n",
    "qui {\n",
    "    cap drop day\n",
    "    gen     day1 = regexs(0) if regexm(date,\"(^[0-9]+)\")\n",
    "    replace day1 = regexs(1) if regexm(date,\"^[a-zA-Z]+([0-9]+)[-]\") & mi(day1)\n",
    "    \n",
    "    cap drop month\n",
    "    gen month1 = regexs(1) if regexm(date,\"^[0-9]+([a-zA-Z]+)\")\n",
    "    replace month1 = regexs(0) if regexm(date,\"^[a-z]+\") & mi(month1)\n",
    "    \n",
    "    cap drop year\n",
    "    gen year1 = regexs(0) if regexm(date,\"([0-9]+$)\")\n",
    "}\n",
    "list"
   ]
  },
  {
   "cell_type": "code",
   "execution_count": 7,
   "metadata": {},
   "outputs": [
    {
     "name": "stdout",
     "output_type": "stream",
     "text": [
      "\n",
      "\n",
      ". list, noobs\n",
      "\n",
      "  +--------------------------------------------------------------+\n",
      "  |         date   day1   month1   year1   day2   month2   year2 |\n",
      "  |--------------------------------------------------------------|\n",
      "  |    20jan2007     20      jan    2007     20      jan    2007 |\n",
      "  |     16June06     16     June      06     16     June      06 |\n",
      "  |   06sept1985     06     sept    1985     06     sept    1985 |\n",
      "  |     21june04     21     june      04     21     june      04 |\n",
      "  |      4july90      4     july      90      4     july      90 |\n",
      "  |--------------------------------------------------------------|\n",
      "  |     9jan1999      9      jan    1999      9      jan    1999 |\n",
      "  |       6aug99      6      aug      99      6      aug      99 |\n",
      "  | 19august2003     19   august    2003     19   august    2003 |\n",
      "  |   aug19-2003     19      aug    2003     19      aug    2003 |\n",
      "  |    jan9-2003      9      jan    2003      9      jan    2003 |\n",
      "  |--------------------------------------------------------------|\n",
      "  |   july4-2004      4     july    2004      4     july    2004 |\n",
      "  +--------------------------------------------------------------+\n"
     ]
    }
   ],
   "source": [
    "//Gộp các thông tin vào chung 1 expression\n",
    "qui {\n",
    "    local rege1 regexm(date,\"(^[0-9]+)([a-zA-Z]+)([0-9]+$)\")\n",
    "    local rege2 regexm(date,\"(^[a-zA-Z]+)([0-9]+)[-]([0-9]+$)\")\n",
    "\n",
    "    gen day2 = \"\"\n",
    "    replace day2 = regexs(1) if `rege1'\n",
    "    replace day2 = regexs(2) if `rege2'\n",
    "\n",
    "    gen month2 = \"\"\n",
    "    replace month2 = regexs(2) if `rege1'\n",
    "    replace month2 = regexs(1) if `rege2'\n",
    "\n",
    "    gen year2 = \"\" \n",
    "    replace year2 = regexs(3) if `rege1'\n",
    "    replace year2 = regexs(3) if `rege2'\n",
    "}\n",
    "list, noobs"
   ]
  },
  {
   "cell_type": "markdown",
   "metadata": {},
   "source": [
    "## 3. regexr()"
   ]
  },
  {
   "cell_type": "code",
   "execution_count": 8,
   "metadata": {},
   "outputs": [
    {
     "name": "stdout",
     "output_type": "stream",
     "text": [
      "\n",
      "jan9-2003\n",
      "\n",
      "(1 real change made)\n",
      "\n",
      "juanuary9-2003\n"
     ]
    }
   ],
   "source": [
    "di date[10]\n",
    "replace date = regexr(date,\"^jan\",\"juanuary\") //Thay những ngày bắt đầu bằng jan thành january\n",
    "di date[10]"
   ]
  },
  {
   "cell_type": "code",
   "execution_count": 9,
   "metadata": {},
   "outputs": [
    {
     "name": "stdout",
     "output_type": "stream",
     "text": [
      "\n",
      "  +----------------------------------------------------------------+\n",
      "  |           date   day1   month1   year1   day2   month2   year2 |\n",
      "  |----------------------------------------------------------------|\n",
      "  |      20jan2007     20      jan    2007     20      jan    2007 |\n",
      "  |       16June06     16     June      06     16     June      06 |\n",
      "  |     06sept1985     06     sept    1985     06     sept    1985 |\n",
      "  |       21june04     21     june      04     21     june      04 |\n",
      "  |        4july90      4     july      90      4     july      90 |\n",
      "  |----------------------------------------------------------------|\n",
      "  |       9jan1999      9      jan    1999      9      jan    1999 |\n",
      "  |         6aug99      6      aug      99      6      aug      99 |\n",
      "  |   19august2003     19   august    2003     19   august    2003 |\n",
      "  |     aug19-2003     19      aug    2003     19      aug    2003 |\n",
      "  | juanuary9-2003      9      jan    2003      9      jan    2003 |\n",
      "  |----------------------------------------------------------------|\n",
      "  |     july4-2004      4     july    2004      4     july    2004 |\n",
      "  +----------------------------------------------------------------+\n"
     ]
    }
   ],
   "source": [
    "list, noobs"
   ]
  }
 ],
 "metadata": {
  "kernelspec": {
   "display_name": "Stata",
   "language": "stata",
   "name": "stata"
  },
  "language_info": {
   "codemirror_mode": "stata",
   "file_extension": ".do",
   "mimetype": "text/x-stata",
   "name": "stata",
   "version": "15.1"
  },
  "toc-autonumbering": false,
  "toc-showcode": true,
  "toc-showmarkdowntxt": true,
  "toc-showtags": false
 },
 "nbformat": 4,
 "nbformat_minor": 4
}
