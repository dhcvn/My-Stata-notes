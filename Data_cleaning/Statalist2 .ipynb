{
 "cells": [
  {
   "cell_type": "markdown",
   "metadata": {
    "toc": true
   },
   "source": [
    "<h1>Mục lục<span class=\"tocSkip\"></span></h1>\n",
    "<div class=\"toc\"><ul class=\"toc-item\"><li><span><a href=\"#Tạo-dữ-liệu-mô-phỏng\" data-toc-modified-id=\"Tạo-dữ-liệu-mô-phỏng-1\"><span class=\"toc-item-num\">1&nbsp;&nbsp;</span>Tạo dữ liệu mô phỏng</a></span></li><li><span><a href=\"#Mô-tả-bài-toán\" data-toc-modified-id=\"Mô-tả-bài-toán-2\"><span class=\"toc-item-num\">2&nbsp;&nbsp;</span>Mô tả bài toán</a></span><ul class=\"toc-item\"><li><span><a href=\"#Cách-làm-1-với-2-dòng-codes\" data-toc-modified-id=\"Cách-làm-1-với-2-dòng-codes-2.1\"><span class=\"toc-item-num\">2.1&nbsp;&nbsp;</span>Cách làm 1 với 2 dòng codes</a></span></li><li><span><a href=\"#Tuy-nhiên-có-1-cách-chỉ-cần-1-dòng-code-để-giả-quyết-vấn-đề-này\" data-toc-modified-id=\"Tuy-nhiên-có-1-cách-chỉ-cần-1-dòng-code-để-giả-quyết-vấn-đề-này-2.2\"><span class=\"toc-item-num\">2.2&nbsp;&nbsp;</span>Tuy nhiên có 1 cách chỉ cần 1 dòng code để giả quyết vấn đề này</a></span></li></ul></li></ul></div>"
   ]
  },
  {
   "cell_type": "markdown",
   "metadata": {},
   "source": [
    "Bài hôm nay tôi sẽ giới thiệu về 1 trường hợp thao tác số liệu rất thú vị trên Statalist"
   ]
  },
  {
   "cell_type": "markdown",
   "metadata": {},
   "source": [
    "## Tạo dữ liệu mô phỏng"
   ]
  },
  {
   "cell_type": "code",
   "execution_count": 1,
   "metadata": {
    "collapsed": true
   },
   "outputs": [
    {
     "name": "stdout",
     "output_type": "stream",
     "text": [
      "\n",
      "\n",
      "\n",
      "     firm_n~r       prob          n\n"
     ]
    }
   ],
   "source": [
    "clear\n",
    "input byte firm_number float(prob n)\n",
    "1 .26130265 1\n",
    "1 .25147092 2\n",
    "1  .2452173 3\n",
    "1  .2420091 4\n",
    "2 .26272482 1\n",
    "2 .26272482 2\n",
    "2  .2372752 3\n",
    "2  .2372752 4\n",
    "3    .27035 1\n",
    "3  .2537077 2\n",
    "3 .24096736 3\n",
    "3 .23497495 4\n",
    "end"
   ]
  },
  {
   "cell_type": "code",
   "execution_count": 2,
   "metadata": {},
   "outputs": [
    {
     "data": {
      "text/html": [
       "<div>\n",
       "<style scoped>\n",
       "    .dataframe tbody tr th:only-of-type {\n",
       "        vertical-align: middle;\n",
       "    }\n",
       "\n",
       "    .dataframe tbody tr th {\n",
       "        vertical-align: top;\n",
       "    }\n",
       "\n",
       "    .dataframe thead th {\n",
       "        text-align: right;\n",
       "    }\n",
       "</style>\n",
       "<table border=\"1\" class=\"dataframe\">\n",
       "  <thead>\n",
       "    <tr style=\"text-align: right;\">\n",
       "      <th></th>\n",
       "      <th>firm_number</th>\n",
       "      <th>prob</th>\n",
       "      <th>n</th>\n",
       "    </tr>\n",
       "  </thead>\n",
       "  <tbody>\n",
       "    <tr>\n",
       "      <th>1</th>\n",
       "      <td>1</td>\n",
       "      <td>.26130265</td>\n",
       "      <td>1</td>\n",
       "    </tr>\n",
       "    <tr>\n",
       "      <th>2</th>\n",
       "      <td>1</td>\n",
       "      <td>.25147092</td>\n",
       "      <td>2</td>\n",
       "    </tr>\n",
       "    <tr>\n",
       "      <th>3</th>\n",
       "      <td>1</td>\n",
       "      <td>.24521729</td>\n",
       "      <td>3</td>\n",
       "    </tr>\n",
       "    <tr>\n",
       "      <th>4</th>\n",
       "      <td>1</td>\n",
       "      <td>.2420091</td>\n",
       "      <td>4</td>\n",
       "    </tr>\n",
       "    <tr>\n",
       "      <th>5</th>\n",
       "      <td>2</td>\n",
       "      <td>.26272482</td>\n",
       "      <td>1</td>\n",
       "    </tr>\n",
       "    <tr>\n",
       "      <th>6</th>\n",
       "      <td>2</td>\n",
       "      <td>.26272482</td>\n",
       "      <td>2</td>\n",
       "    </tr>\n",
       "    <tr>\n",
       "      <th>7</th>\n",
       "      <td>2</td>\n",
       "      <td>.2372752</td>\n",
       "      <td>3</td>\n",
       "    </tr>\n",
       "    <tr>\n",
       "      <th>8</th>\n",
       "      <td>2</td>\n",
       "      <td>.2372752</td>\n",
       "      <td>4</td>\n",
       "    </tr>\n",
       "    <tr>\n",
       "      <th>9</th>\n",
       "      <td>3</td>\n",
       "      <td>.27035001</td>\n",
       "      <td>1</td>\n",
       "    </tr>\n",
       "    <tr>\n",
       "      <th>10</th>\n",
       "      <td>3</td>\n",
       "      <td>.25370771</td>\n",
       "      <td>2</td>\n",
       "    </tr>\n",
       "    <tr>\n",
       "      <th>11</th>\n",
       "      <td>3</td>\n",
       "      <td>.24096736</td>\n",
       "      <td>3</td>\n",
       "    </tr>\n",
       "    <tr>\n",
       "      <th>12</th>\n",
       "      <td>3</td>\n",
       "      <td>.23497495</td>\n",
       "      <td>4</td>\n",
       "    </tr>\n",
       "  </tbody>\n",
       "</table>\n",
       "</div>"
      ],
      "text/plain": [
       "\n",
       "     +-------------------------+\n",
       "     | firm_n~r       prob   n |\n",
       "     |-------------------------|\n",
       "  1. |        1   .2613026   1 |\n",
       "  2. |        1   .2514709   2 |\n",
       "  3. |        1   .2452173   3 |\n",
       "  4. |        1   .2420091   4 |\n",
       "  5. |        2   .2627248   1 |\n",
       "     |-------------------------|\n",
       "  6. |        2   .2627248   2 |\n",
       "  7. |        2   .2372752   3 |\n",
       "  8. |        2   .2372752   4 |\n",
       "  9. |        3     .27035   1 |\n",
       " 10. |        3   .2537077   2 |\n",
       "     |-------------------------|\n",
       " 11. |        3   .2409674   3 |\n",
       " 12. |        3    .234975   4 |\n",
       "     +-------------------------+\n",
       "\n"
      ]
     },
     "metadata": {},
     "output_type": "display_data"
    }
   ],
   "source": [
    "%browse "
   ]
  },
  {
   "cell_type": "markdown",
   "metadata": {},
   "source": [
    "## Mô tả bài toán"
   ]
  },
  {
   "cell_type": "markdown",
   "metadata": {},
   "source": [
    "<p style=\"color:red\">Với mỗi firm_number thì tính giá trị trung bình của biến prob</p>"
   ]
  },
  {
   "cell_type": "markdown",
   "metadata": {},
   "source": [
    "### Cách làm 1 với 2 dòng codes"
   ]
  },
  {
   "cell_type": "code",
   "execution_count": 3,
   "metadata": {},
   "outputs": [
    {
     "name": "stdout",
     "output_type": "stream",
     "text": [
      "\n",
      "(9 missing values generated)\n",
      "\n"
     ]
    }
   ],
   "source": [
    "// VỚi mỗi giá trị của firm_number tạo biến mới là temp, nếu n==2\n",
    "bys firm_number: gen temp = prob if _n == 2\n",
    "// Với mỗi giá trị của firm_number tạo biến mong muốn bằng trung bình của biến temp\n",
    "bys firm_number: egen wanted = mean(temp)"
   ]
  },
  {
   "cell_type": "code",
   "execution_count": 4,
   "metadata": {},
   "outputs": [
    {
     "data": {
      "text/html": [
       "<div>\n",
       "<style scoped>\n",
       "    .dataframe tbody tr th:only-of-type {\n",
       "        vertical-align: middle;\n",
       "    }\n",
       "\n",
       "    .dataframe tbody tr th {\n",
       "        vertical-align: top;\n",
       "    }\n",
       "\n",
       "    .dataframe thead th {\n",
       "        text-align: right;\n",
       "    }\n",
       "</style>\n",
       "<table border=\"1\" class=\"dataframe\">\n",
       "  <thead>\n",
       "    <tr style=\"text-align: right;\">\n",
       "      <th></th>\n",
       "      <th>firm_number</th>\n",
       "      <th>prob</th>\n",
       "      <th>n</th>\n",
       "      <th>temp</th>\n",
       "      <th>wanted</th>\n",
       "    </tr>\n",
       "  </thead>\n",
       "  <tbody>\n",
       "    <tr>\n",
       "      <th>1</th>\n",
       "      <td>1</td>\n",
       "      <td>.26130265</td>\n",
       "      <td>1</td>\n",
       "      <td>.</td>\n",
       "      <td>.25147092</td>\n",
       "    </tr>\n",
       "    <tr>\n",
       "      <th>2</th>\n",
       "      <td>1</td>\n",
       "      <td>.25147092</td>\n",
       "      <td>2</td>\n",
       "      <td>.25147092</td>\n",
       "      <td>.25147092</td>\n",
       "    </tr>\n",
       "    <tr>\n",
       "      <th>3</th>\n",
       "      <td>1</td>\n",
       "      <td>.24521729</td>\n",
       "      <td>3</td>\n",
       "      <td>.</td>\n",
       "      <td>.25147092</td>\n",
       "    </tr>\n",
       "    <tr>\n",
       "      <th>4</th>\n",
       "      <td>1</td>\n",
       "      <td>.2420091</td>\n",
       "      <td>4</td>\n",
       "      <td>.</td>\n",
       "      <td>.25147092</td>\n",
       "    </tr>\n",
       "    <tr>\n",
       "      <th>5</th>\n",
       "      <td>2</td>\n",
       "      <td>.26272482</td>\n",
       "      <td>1</td>\n",
       "      <td>.</td>\n",
       "      <td>.26272482</td>\n",
       "    </tr>\n",
       "    <tr>\n",
       "      <th>6</th>\n",
       "      <td>2</td>\n",
       "      <td>.26272482</td>\n",
       "      <td>2</td>\n",
       "      <td>.26272482</td>\n",
       "      <td>.26272482</td>\n",
       "    </tr>\n",
       "    <tr>\n",
       "      <th>7</th>\n",
       "      <td>2</td>\n",
       "      <td>.2372752</td>\n",
       "      <td>3</td>\n",
       "      <td>.</td>\n",
       "      <td>.26272482</td>\n",
       "    </tr>\n",
       "    <tr>\n",
       "      <th>8</th>\n",
       "      <td>2</td>\n",
       "      <td>.2372752</td>\n",
       "      <td>4</td>\n",
       "      <td>.</td>\n",
       "      <td>.26272482</td>\n",
       "    </tr>\n",
       "    <tr>\n",
       "      <th>9</th>\n",
       "      <td>3</td>\n",
       "      <td>.27035001</td>\n",
       "      <td>1</td>\n",
       "      <td>.</td>\n",
       "      <td>.25370771</td>\n",
       "    </tr>\n",
       "    <tr>\n",
       "      <th>10</th>\n",
       "      <td>3</td>\n",
       "      <td>.25370771</td>\n",
       "      <td>2</td>\n",
       "      <td>.25370771</td>\n",
       "      <td>.25370771</td>\n",
       "    </tr>\n",
       "    <tr>\n",
       "      <th>11</th>\n",
       "      <td>3</td>\n",
       "      <td>.24096736</td>\n",
       "      <td>3</td>\n",
       "      <td>.</td>\n",
       "      <td>.25370771</td>\n",
       "    </tr>\n",
       "    <tr>\n",
       "      <th>12</th>\n",
       "      <td>3</td>\n",
       "      <td>.23497495</td>\n",
       "      <td>4</td>\n",
       "      <td>.</td>\n",
       "      <td>.25370771</td>\n",
       "    </tr>\n",
       "  </tbody>\n",
       "</table>\n",
       "</div>"
      ],
      "text/plain": [
       "\n",
       "     +-----------------------------------------------+\n",
       "     | firm_n~r       prob   n       temp     wanted |\n",
       "     |-----------------------------------------------|\n",
       "  1. |        1   .2613026   1          .   .2514709 |\n",
       "  2. |        1   .2514709   2   .2514709   .2514709 |\n",
       "  3. |        1   .2452173   3          .   .2514709 |\n",
       "  4. |        1   .2420091   4          .   .2514709 |\n",
       "  5. |        2   .2627248   1          .   .2627248 |\n",
       "     |-----------------------------------------------|\n",
       "  6. |        2   .2627248   2   .2627248   .2627248 |\n",
       "  7. |        2   .2372752   3          .   .2627248 |\n",
       "  8. |        2   .2372752   4          .   .2627248 |\n",
       "  9. |        3     .27035   1          .   .2537077 |\n",
       " 10. |        3   .2537077   2   .2537077   .2537077 |\n",
       "     |-----------------------------------------------|\n",
       " 11. |        3   .2409674   3          .   .2537077 |\n",
       " 12. |        3    .234975   4          .   .2537077 |\n",
       "     +-----------------------------------------------+\n",
       "\n"
      ]
     },
     "metadata": {},
     "output_type": "display_data"
    }
   ],
   "source": [
    "%browse"
   ]
  },
  {
   "cell_type": "markdown",
   "metadata": {},
   "source": [
    "### Tuy nhiên có 1 cách chỉ cần 1 dòng code để giả quyết vấn đề này"
   ]
  },
  {
   "cell_type": "code",
   "execution_count": 5,
   "metadata": {},
   "outputs": [],
   "source": [
    "bys firm_number (n): egen wanted2 = mean(cond(n == 2, prob, .))"
   ]
  },
  {
   "cell_type": "markdown",
   "metadata": {},
   "source": [
    "<p style=\"color:red\">Kiểm tra xem biến wanted với wanted2 có bằng nhau không bằng lệnh assert</p>"
   ]
  },
  {
   "cell_type": "code",
   "execution_count": 7,
   "metadata": {},
   "outputs": [],
   "source": [
    "assert wanted==wanted2"
   ]
  },
  {
   "cell_type": "code",
   "execution_count": 9,
   "metadata": {},
   "outputs": [
    {
     "name": "stdout",
     "output_type": "stream",
     "text": [
      "0\n"
     ]
    }
   ],
   "source": [
    "di _rc // Vì _rc==0 cho nên có thể thấy rằng wanted == wanted2"
   ]
  },
  {
   "cell_type": "markdown",
   "metadata": {},
   "source": [
    "Cấu trúc lệnh mục 2.2 sẽ được làm rõ ở các bài tiếp theo,"
   ]
  },
  {
   "cell_type": "markdown",
   "metadata": {},
   "source": [
    "Trân trọng cảm ơn sự chú ý của các bạn!!!"
   ]
  }
 ],
 "metadata": {
  "kernelspec": {
   "display_name": "Stata",
   "language": "stata",
   "name": "stata"
  },
  "language_info": {
   "codemirror_mode": "stata",
   "file_extension": ".do",
   "mimetype": "text/x-stata",
   "name": "stata",
   "version": "15.1"
  },
  "toc": {
   "base_numbering": 1,
   "nav_menu": {},
   "number_sections": true,
   "sideBar": true,
   "skip_h1_title": true,
   "title_cell": "Mục lục",
   "title_sidebar": "Nội dung",
   "toc_cell": true,
   "toc_position": {},
   "toc_section_display": true,
   "toc_window_display": true
  }
 },
 "nbformat": 4,
 "nbformat_minor": 4
}
