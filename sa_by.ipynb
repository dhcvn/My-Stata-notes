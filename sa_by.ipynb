{
 "cells": [
  {
   "cell_type": "markdown",
   "metadata": {
    "toc": true
   },
   "source": [
    "<h1>Mục lục<span class=\"tocSkip\"></span></h1>\n",
    "<div class=\"toc\"><ul class=\"toc-item\"><li><span><a href=\"#by:-phân-chia-theo-nhóm\" data-toc-modified-id=\"by:-phân-chia-theo-nhóm-1\"><span class=\"toc-item-num\">1&nbsp;&nbsp;</span>by: phân chia theo nhóm</a></span></li><li><span><a href=\"#Sắp-xếp-theo-thứ-tự-tăng-dần\" data-toc-modified-id=\"Sắp-xếp-theo-thứ-tự-tăng-dần-2\"><span class=\"toc-item-num\">2&nbsp;&nbsp;</span>Sắp xếp theo thứ tự tăng dần</a></span></li><li><span><a href=\"#Kết-hợp-giữa-by-và-sort\" data-toc-modified-id=\"Kết-hợp-giữa-by-và-sort-3\"><span class=\"toc-item-num\">3&nbsp;&nbsp;</span>Kết hợp giữa by và sort</a></span></li><li><span><a href=\"#Khái-niệm-và-ứng-dụng-_n-và-_N\" data-toc-modified-id=\"Khái-niệm-và-ứng-dụng-_n-và-_N-4\"><span class=\"toc-item-num\">4&nbsp;&nbsp;</span>Khái niệm và ứng dụng _n và _N</a></span></li><li><span><a href=\"#Các-quy-tắc-về-&quot;đúng/sai&quot;-trong-Stata\" data-toc-modified-id=\"Các-quy-tắc-về-&quot;đúng/sai&quot;-trong-Stata-5\"><span class=\"toc-item-num\">5&nbsp;&nbsp;</span>Các quy tắc về \"đúng/sai\" trong Stata</a></span></li><li><span><a href=\"#Ví-dụ-một-số-trường-hợp-cụ-thể\" data-toc-modified-id=\"Ví-dụ-một-số-trường-hợp-cụ-thể-6\"><span class=\"toc-item-num\">6&nbsp;&nbsp;</span>Ví dụ một số trường hợp cụ thể</a></span></li><li><span><a href=\"#Kết-luận:\" data-toc-modified-id=\"Kết-luận:-7\"><span class=\"toc-item-num\">7&nbsp;&nbsp;</span>Kết luận:</a></span></li></ul></div>"
   ]
  },
  {
   "cell_type": "markdown",
   "metadata": {},
   "source": [
    "Tài liệu tham khảo:\n",
    "\n",
    "https://journals.sagepub.com/doi/pdf/10.1177/1536867X0200200106"
   ]
  },
  {
   "cell_type": "markdown",
   "metadata": {},
   "source": [
    "## by: phân chia theo nhóm"
   ]
  },
  {
   "cell_type": "markdown",
   "metadata": {},
   "source": [
    "Ý tưởng đằng sau câu lệnh \"by\" là thực hiện 1 thao tác với dữ liệu cho riêng từng nhóm được xác định bởi một hoặc nhiều biến số. Ví dụ trong bộ số liệu auto.dta, nếu nhập câu lệnh: \n",
    "\n",
    "<b>by foreign: </b> <i>câu lệnh</i>\n",
    "\n",
    "Câu lệnh trên sẽ thực hiện thao tác với số liệu cho từng nhóm đối tượng được xác định trong biến foreign."
   ]
  },
  {
   "cell_type": "code",
   "execution_count": 2,
   "metadata": {
    "scrolled": true
   },
   "outputs": [
    {
     "name": "stdout",
     "output_type": "stream",
     "text": [
      "\n",
      "(1978 Automobile Data)\n",
      "\n",
      "\n",
      "--------------------------------------------------------------------------------\n",
      "-> foreign = Domestic\n",
      "\n",
      "    Variable |        Obs        Mean    Std. Dev.       Min        Max\n",
      "-------------+---------------------------------------------------------\n",
      "         mpg |         52    19.82692    4.743297         12         34\n",
      "\n",
      "--------------------------------------------------------------------------------\n",
      "-> foreign = Foreign\n",
      "\n",
      "    Variable |        Obs        Mean    Std. Dev.       Min        Max\n",
      "-------------+---------------------------------------------------------\n",
      "         mpg |         22    24.77273    6.611187         14         41\n",
      "\n"
     ]
    }
   ],
   "source": [
    "sysuse auto, clear //Ví dụ với bộ số liệu auto\n",
    "by foreign: sum mpg"
   ]
  },
  {
   "cell_type": "markdown",
   "metadata": {},
   "source": [
    "## Sắp xếp theo thứ tự tăng dần"
   ]
  },
  {
   "cell_type": "markdown",
   "metadata": {},
   "source": [
    "Sắp xếp bộ dữ liệu theo thứ tự tăng dần theo <i>varlist</i> (Một hoặc nhiều biến số).\n",
    "\n",
    "Nếu varlist là biến dạng số thì sẽ sắp xép theo thứ tự từ bé đến lớn\n",
    "\n",
    "Nếu varlist là biến dạng kí tự (string) thì sẽ sắp xếp theo thứ tự bảng mã ASCII\n"
   ]
  },
  {
   "cell_type": "code",
   "execution_count": 3,
   "metadata": {
    "scrolled": true
   },
   "outputs": [
    {
     "name": "stdout",
     "output_type": "stream",
     "text": [
      "\n",
      "\n",
      "\n",
      "     +----------------------------------------+\n",
      "     | make            price   mpg    foreign |\n",
      "     |----------------------------------------|\n",
      "  1. | AMC Concord     4,099    22   Domestic |\n",
      "  2. | AMC Pacer       4,749    17   Domestic |\n",
      "  3. | AMC Spirit      3,799    22   Domestic |\n",
      "  4. | Buick Century   4,816    20   Domestic |\n",
      "  5. | Buick Electra   7,827    15   Domestic |\n",
      "     +----------------------------------------+\n",
      "\n",
      "\n",
      "\n",
      "     +---------------------------------------------+\n",
      "     | make                 price   mpg    foreign |\n",
      "     |---------------------------------------------|\n",
      "  1. | Linc. Continental   11,497    12   Domestic |\n",
      "  2. | Linc. Mark V        13,594    12   Domestic |\n",
      "  3. | Linc. Versailles    13,466    14   Domestic |\n",
      "  4. | Merc. XR-7           6,303    14   Domestic |\n",
      "  5. | Cad. Deville        11,385    14   Domestic |\n",
      "     +---------------------------------------------+\n"
     ]
    }
   ],
   "source": [
    "sort foreign\n",
    "list make-mpg foreign in 1/5 //xem 5 hàng đầu tiên\n",
    "sort mpg\n",
    "list make-mpg foreign in 1/5 //xem 5 hàng đầu tiên"
   ]
  },
  {
   "cell_type": "markdown",
   "metadata": {},
   "source": [
    "## Kết hợp giữa by và sort"
   ]
  },
  {
   "cell_type": "markdown",
   "metadata": {},
   "source": [
    "Có 2 cú pháp có thể sử dụng với by và sort:\n",
    "\n",
    "ví du: \n",
    "\n",
    "_Cú pháp 1:_\n",
    "\n",
    "sort foreign mpg\n",
    "\n",
    "by foreign: command\n",
    "\n",
    "\n",
    "_Cú pháp 2 với kết quả tương tự trong 1 dòng lệnh_\n",
    "\n",
    "bysort foreign mpg: command \n",
    "\n",
    "hoặc:\n",
    "\n",
    "bysort foreign (mpg): command\n"
   ]
  },
  {
   "cell_type": "markdown",
   "metadata": {},
   "source": [
    "## Khái niệm và ứng dụng _n và _N"
   ]
  },
  {
   "cell_type": "code",
   "execution_count": 4,
   "metadata": {
    "scrolled": true
   },
   "outputs": [
    {
     "name": "stdout",
     "output_type": "stream",
     "text": [
      "\n",
      "\n",
      "\n",
      ". list\n",
      "\n",
      "     +---------------+\n",
      "     | bvar   oldvar |\n",
      "     |---------------|\n",
      "  1. |    1      1.1 |\n",
      "  2. |    1      2.1 |\n",
      "  3. |    1      3.1 |\n",
      "  4. |    2      4.1 |\n",
      "  5. |    2      5.1 |\n",
      "     +---------------+\n"
     ]
    }
   ],
   "source": [
    "clear\n",
    "qui input byte bvar oldvar\n",
    "1 1.1\n",
    "1 2.1\n",
    "1 3.1\n",
    "2 4.1\n",
    "2 5.1\n",
    "end\n",
    "list"
   ]
  },
  {
   "cell_type": "code",
   "execution_count": 5,
   "metadata": {
    "scrolled": true
   },
   "outputs": [],
   "source": [
    "gen smalln = _n // Số thứ tự của từng bản ghi trong bộ số liệu\n",
    "gen bign   = _N // Bằng tổng số bản ghi trong bộ số liệu\n",
    "gen newvar = oldvar[1] // Gán giá trị oldvar đầu tiên cho biến mới newvar"
   ]
  },
  {
   "cell_type": "code",
   "execution_count": 6,
   "metadata": {
    "scrolled": true
   },
   "outputs": [
    {
     "name": "stdout",
     "output_type": "stream",
     "text": [
      "\n",
      "     +----------------------------------------+\n",
      "     | bvar   oldvar   smalln   bign   newvar |\n",
      "     |----------------------------------------|\n",
      "  1. |    1      1.1        1      5      1.1 |\n",
      "  2. |    1      2.1        2      5      1.1 |\n",
      "  3. |    1      3.1        3      5      1.1 |\n",
      "  4. |    2      4.1        4      5      1.1 |\n",
      "  5. |    2      5.1        5      5      1.1 |\n",
      "     +----------------------------------------+\n"
     ]
    }
   ],
   "source": [
    "list "
   ]
  },
  {
   "cell_type": "code",
   "execution_count": 7,
   "metadata": {
    "scrolled": true
   },
   "outputs": [],
   "source": [
    "// Thêm by và sort\n",
    "drop smalln bign newvar\n",
    "bys bvar: gen smalln = _n // Số thứ tự từng bản ghi trong một nhóm bvar\n",
    "bys bvar: gen bign   = _N // Bằng số bản ghi của 1 nhóm bvar\n",
    "bys bvar: gen newvar = oldvar[1] // Gán giá trị oldvar đầu tiên trong mỗi nhóm bvar cho newvar"
   ]
  },
  {
   "cell_type": "code",
   "execution_count": 8,
   "metadata": {
    "scrolled": true
   },
   "outputs": [
    {
     "name": "stdout",
     "output_type": "stream",
     "text": [
      "\n",
      "     +----------------------------------------+\n",
      "     | bvar   oldvar   smalln   bign   newvar |\n",
      "     |----------------------------------------|\n",
      "  1. |    1      1.1        1      3      1.1 |\n",
      "  2. |    1      2.1        2      3      1.1 |\n",
      "  3. |    1      3.1        3      3      1.1 |\n",
      "  4. |    2      4.1        1      2      4.1 |\n",
      "  5. |    2      5.1        2      2      4.1 |\n",
      "     +----------------------------------------+\n"
     ]
    }
   ],
   "source": [
    "list"
   ]
  },
  {
   "cell_type": "markdown",
   "metadata": {},
   "source": [
    "Ví dụ sử dụng _n, _N để tính giá trị trung bình của một biến x theo từng vùng trong biến region với bộ số liệu dưới đây"
   ]
  },
  {
   "cell_type": "code",
   "execution_count": 9,
   "metadata": {
    "scrolled": true
   },
   "outputs": [
    {
     "name": "stdout",
     "output_type": "stream",
     "text": [
      "\n",
      "\n",
      "\n",
      "\n",
      "     +--------------------------------------------------+\n",
      "     |    state     region      x   marria~e   divorc~e |\n",
      "     |--------------------------------------------------|\n",
      "  1. |  ALABAMA      South   29.3        126         69 |\n",
      "  2. |   ALASKA       West   26.1        133         88 |\n",
      "  3. |  ARIZONA       West   29.2        111         73 |\n",
      "  4. |      ARK      South   30.6        116         69 |\n",
      "  5. |    CALIF       West   29.9         89         56 |\n",
      "     |--------------------------------------------------|\n",
      "  6. |     COLO       West   28.6        121         64 |\n",
      "  7. |     CONN    N. East     32         84         43 |\n",
      "  8. |     DELA      South   29.8         75         39 |\n",
      "  9. |  FLORIDA      South   34.7        111         73 |\n",
      " 10. |  GEORGIA      South   28.7        129         64 |\n",
      "     |--------------------------------------------------|\n",
      " 11. |   HAWAII       West   28.4        123         46 |\n",
      " 12. |    IDAHO       West   27.6        142         70 |\n",
      " 13. |      ILL   N. Centr   29.9         96         45 |\n",
      " 14. |      IND   N. Centr   29.2        105         73 |\n",
      " 15. |     IOWA   N. Centr     30         94         41 |\n",
      "     |--------------------------------------------------|\n",
      " 16. |   KANSAS   N. Centr   30.1        105         57 |\n",
      " 17. |      KEN      South   29.1         89         46 |\n",
      " 18. |       LO      South   27.4        103         43 |\n",
      " 19. |    MAINE    N. East   30.4        107         55 |\n",
      " 20. | MARYLAND      South   30.3        110         41 |\n",
      "     |--------------------------------------------------|\n",
      " 21. |     MASS    N. East   31.2         81         31 |\n",
      " 22. |     MICH   N. Centr   28.8         94         49 |\n",
      " 23. |     MINN   N. Centr   29.2         92         38 |\n",
      " 24. |     MISS      South   27.7        111         55 |\n",
      " 25. |  MONTANA       West     29        106         63 |\n",
      "     |--------------------------------------------------|\n",
      " 26. |       MS   N. Centr   30.9        111         56 |\n",
      " 27. |    N CAR      South   29.6         79         48 |\n",
      " 28. | N DAKOTA   N. Centr   28.3         93         33 |\n",
      " 29. | N MEXICO       West   27.4        128         80 |\n",
      " 30. |     N.J.    N. East   32.2         76         38 |\n",
      "     |--------------------------------------------------|\n",
      " 31. |     N.Y.    N. East   31.9         82         35 |\n",
      " 32. |     NEBR   N. Centr   29.7         91         41 |\n",
      " 33. |   NEVADA       West   30.2       1428        173 |\n",
      " 34. |       NH    N. East   30.1        100         57 |\n",
      " 35. |     OHIO   N. Centr   29.9         92         54 |\n",
      "     |--------------------------------------------------|\n",
      " 36. |       OK      South   30.1        154         80 |\n",
      " 37. |   OREGON       West   30.2         87         67 |\n",
      " 38. |     PENN    N. East   32.1         79         29 |\n",
      " 39. |     R.I.    N. East   31.8         79         38 |\n",
      " 40. |    S CAR      South   28.1        173         44 |\n",
      "     |--------------------------------------------------|\n",
      " 41. | S DAKOTA   N. Centr   28.9        127         41 |\n",
      " 42. |     TENN      South   30.1        129         66 |\n",
      " 43. |    TEXAS      South   28.2        128         68 |\n",
      " 44. |     UTAH       West   24.2        116         53 |\n",
      " 45. | VIRGINIA      South   29.8        113         44 |\n",
      "     |--------------------------------------------------|\n",
      " 46. |       VT    N. East   29.4        102         51 |\n",
      " 47. |    W VIR      South   30.4         89         53 |\n",
      " 48. |     WASH       West   29.8        116         69 |\n",
      " 49. |     WISC   N. Centr   29.4         87         37 |\n",
      " 50. |  WYOMING       West   27.1        146         85 |\n",
      "     +--------------------------------------------------+\n"
     ]
    }
   ],
   "source": [
    "clear\n",
    "use http://www.stata-press.com/data/r15/gxmpl7.dta\n",
    "list"
   ]
  },
  {
   "cell_type": "code",
   "execution_count": 10,
   "metadata": {
    "scrolled": true
   },
   "outputs": [
    {
     "name": "stdout",
     "output_type": "stream",
     "text": [
      "\n",
      "\n",
      "\n",
      "\n",
      "     +-------------------------------------------------------------+\n",
      "     |    state     region      x   marria~e   divorc~e       avgx |\n",
      "     |-------------------------------------------------------------|\n",
      "  1. |   KANSAS   N. Centr   30.1        105         57       30.1 |\n",
      "  2. |     IOWA   N. Centr     30         94         41      30.05 |\n",
      "  3. |       MS   N. Centr   30.9        111         56   30.33333 |\n",
      "  4. | N DAKOTA   N. Centr   28.3         93         33     29.825 |\n",
      "  5. |     OHIO   N. Centr   29.9         92         54      29.84 |\n",
      "     +-------------------------------------------------------------+\n",
      "\n",
      "(46 real changes made)\n",
      "\n",
      "\n",
      "     +-----------------------------------------------------------+\n",
      "     |    state     region      x   marria~e   divorc~e     avgx |\n",
      "     |-----------------------------------------------------------|\n",
      "  1. |   KANSAS   N. Centr   30.1        105         57   29.525 |\n",
      "  2. |     IOWA   N. Centr     30         94         41   29.525 |\n",
      "  3. |       MS   N. Centr   30.9        111         56   29.525 |\n",
      "  4. | N DAKOTA   N. Centr   28.3         93         33   29.525 |\n",
      "  5. |     OHIO   N. Centr   29.9         92         54   29.525 |\n",
      "     +-----------------------------------------------------------+\n"
     ]
    }
   ],
   "source": [
    "cap drop avgx\n",
    "//Tính trung bình x theo vùng\n",
    "bys region: gen avgx = sum(x)/_n // Trung bình cộng dồn theo từng region\n",
    "list in 1/5\n",
    "bys region: replace avgx = avgx[_N] // Giá trị cần tính là giá trị cuối cùng (_N)\n",
    "list in 1/5"
   ]
  },
  {
   "cell_type": "markdown",
   "metadata": {},
   "source": [
    "## Các quy tắc về \"đúng/sai\" trong Stata"
   ]
  },
  {
   "cell_type": "markdown",
   "metadata": {},
   "source": [
    "Ngôn ngữ lập trình thống kê nào cũng có các quy tắc về điều kiện đúng sai khác nhau. Với Stata có 2 quy tắc về điều kiện đúng sai:\n",
    "\n",
    "- Quy tắc 1: Đối với câu hỏi nhị phân, giá trị 0 = Sai/False, giá trị 1 = Đúng/True\n",
    "- Quy tắc 2: Đối với biến định tính khác với nhiều hơn 2 giá trị 0 và 1. Giá trị 0 = Sai/False và tất cả các giá trị khác 0 = Đúng/True"
   ]
  },
  {
   "cell_type": "markdown",
   "metadata": {},
   "source": [
    "Do 2 quy tắc trên của Stata, 2 câu lệnh dưới đây cho kết quả như nhau: "
   ]
  },
  {
   "cell_type": "code",
   "execution_count": 13,
   "metadata": {
    "collapsed": true
   },
   "outputs": [
    {
     "name": "stdout",
     "output_type": "stream",
     "text": [
      "\n",
      "(1978 Automobile Data)\n",
      "\n",
      "  22\n"
     ]
    }
   ],
   "source": [
    "sysuse auto, clear\n",
    "count if foreign == 1"
   ]
  },
  {
   "cell_type": "code",
   "execution_count": 14,
   "metadata": {
    "collapsed": true
   },
   "outputs": [
    {
     "name": "stdout",
     "output_type": "stream",
     "text": [
      "  22\n"
     ]
    }
   ],
   "source": [
    "count if foreign"
   ]
  },
  {
   "cell_type": "markdown",
   "metadata": {},
   "source": [
    "Như vậy với Stata, count if foreign == 1 và count if foreign có kết quả đều bằng 22. Kết quả này chứng minh cho quy tắc số 1."
   ]
  },
  {
   "cell_type": "markdown",
   "metadata": {},
   "source": [
    "ví dụ tạo biến số mới từ biến mpg với giá trị mpg > 30"
   ]
  },
  {
   "cell_type": "code",
   "execution_count": 15,
   "metadata": {
    "collapsed": true
   },
   "outputs": [],
   "source": [
    "gen byte himpg = mpg>30"
   ]
  },
  {
   "cell_type": "markdown",
   "metadata": {},
   "source": [
    "Với lệnh trên, những bản ghi nào thoả mãn điều kiện mpg>30 thì sẽ nhận giá trị = 1, còn lại sẽ nhận giá trị = 0 (bao gồm giá trị missing)"
   ]
  },
  {
   "cell_type": "code",
   "execution_count": 16,
   "metadata": {
    "collapsed": true
   },
   "outputs": [
    {
     "name": "stdout",
     "output_type": "stream",
     "text": [
      "\n",
      "      himpg |      Freq.     Percent        Cum.\n",
      "------------+-----------------------------------\n",
      "          0 |         69       93.24       93.24\n",
      "          1 |          5        6.76      100.00\n",
      "------------+-----------------------------------\n",
      "      Total |         74      100.00\n"
     ]
    }
   ],
   "source": [
    "tab himpg"
   ]
  },
  {
   "cell_type": "markdown",
   "metadata": {},
   "source": [
    "## Ví dụ một số trường hợp cụ thể"
   ]
  },
  {
   "cell_type": "markdown",
   "metadata": {},
   "source": [
    "Giả sử có một mẫu nghiên cứu, lấy mẫu ở nhiều thời điểm khác nhau để phân tích gen:"
   ]
  },
  {
   "cell_type": "code",
   "execution_count": 19,
   "metadata": {},
   "outputs": [
    {
     "name": "stdout",
     "output_type": "stream",
     "text": [
      "\n",
      "\n",
      "\n",
      "           id   genotype\n",
      "\n",
      "\n",
      "     +---------------+\n",
      "     | id   genotype |\n",
      "     |---------------|\n",
      "  1. |  0         vv |\n",
      "  2. |  0         vv |\n",
      "     |---------------|\n",
      "  3. |  1         vv |\n",
      "  4. |  1         ww |\n",
      "     |---------------|\n",
      "  5. |  2         ww |\n",
      "  6. |  2         vv |\n",
      "  7. |  2         ww |\n",
      "     +---------------+\n"
     ]
    }
   ],
   "source": [
    "clear\n",
    "input byte id str2 genotype\n",
    "0 \"vv\"\n",
    "0 \"vv\"\n",
    "1 \"vv\"\n",
    "1 \"ww\"\n",
    "2 \"ww\"\n",
    "2 \"vv\"\n",
    "2 \"ww\"\n",
    "end\n",
    "list, sepby(id)"
   ]
  },
  {
   "cell_type": "markdown",
   "metadata": {},
   "source": [
    "Yêu cầu: lập danh sách mẫu có kiểu gen khác nhau của cùng 1 người"
   ]
  },
  {
   "cell_type": "code",
   "execution_count": 20,
   "metadata": {},
   "outputs": [
    {
     "name": "stdout",
     "output_type": "stream",
     "text": [
      "\n",
      "\n",
      "\n",
      "     +----------------------+\n",
      "     | id   genotype   diff |\n",
      "     |----------------------|\n",
      "  1. |  0         vv      0 |\n",
      "  2. |  0         vv      0 |\n",
      "     |----------------------|\n",
      "  3. |  1         vv      1 |\n",
      "  4. |  1         ww      1 |\n",
      "     |----------------------|\n",
      "  5. |  2         vv      1 |\n",
      "  6. |  2         ww      1 |\n",
      "  7. |  2         ww      1 |\n",
      "     +----------------------+\n"
     ]
    }
   ],
   "source": [
    "bysort id (genotype): gen byte diff = genotype[1] != genotype[_N]\n",
    "list, sepby(id)"
   ]
  },
  {
   "cell_type": "markdown",
   "metadata": {},
   "source": [
    "## Kết luận:"
   ]
  },
  {
   "cell_type": "markdown",
   "metadata": {},
   "source": [
    "Bài giới thiệu ngắn này đã trình bày khá chi tiết về cách sử dụng by trong Stata. Bên cạnh đó, giới thiệu về _n và _N cũng như các quy tắc của Stata về điều kiện đúng sai. \"By\" thường được sử dụng nhiều trong các bộ dữ liệu dạng mảng (panel data) để hoán chuyển dữ liệu."
   ]
  }
 ],
 "metadata": {
  "kernelspec": {
   "display_name": "Stata",
   "language": "stata",
   "name": "stata"
  },
  "language_info": {
   "codemirror_mode": "stata",
   "file_extension": ".do",
   "mimetype": "text/x-stata",
   "name": "stata",
   "version": "15.1"
  },
  "toc": {
   "base_numbering": 1,
   "nav_menu": {},
   "number_sections": true,
   "sideBar": true,
   "skip_h1_title": true,
   "title_cell": "Mục lục",
   "title_sidebar": "Nội dung",
   "toc_cell": true,
   "toc_position": {},
   "toc_section_display": true,
   "toc_window_display": true
  }
 },
 "nbformat": 4,
 "nbformat_minor": 4
}
